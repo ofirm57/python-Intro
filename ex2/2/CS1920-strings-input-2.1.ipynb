{
 "cells": [
  {
   "cell_type": "markdown",
   "metadata": {
    "slideshow": {
     "slide_type": "slide"
    }
   },
   "source": [
    "<h1><center> Lecture 2.1</center></h1>\n",
    "<h2><center> Strings, Input </center></h2>\n",
    "<h3><center>Introduction to Computer Science </center></h3>\n",
    "<h4><center>Dr. Arie Schlesinger, HUJI, Spring 2020</center></h4>"
   ]
  },
  {
   "cell_type": "markdown",
   "metadata": {
    "slideshow": {
     "slide_type": "subslide"
    }
   },
   "source": [
    "\n",
    "<h3><center>Strings</center></h3>\n",
    "\n",
    "\n",
    "Strings are **sequences** of characters (letters, digits, punctuation signs,..). <br>\n",
    "\n",
    "When created, the strings are enclosed in single/double/triple quotes. (it lets the interpreter/human readers recognize them as strings. <br>\n",
    "`'iosi'`, `\"ety\"` , `\"\"\"moshe\"\"\"`  , `'''malka'''`   - the quotes must be the same on both sides.\n",
    "\n",
    "Triple-quotation is useful for long string literals that might span on multiple lines of text. \n",
    "\n",
    "Strings can be combined or repeated into new strings, and parts can be copied out. \n",
    "\n",
    "##### strings are  ordered 'containers' of  single characters. <br>"
   ]
  },
  {
   "cell_type": "code",
   "execution_count": null,
   "metadata": {},
   "outputs": [],
   "source": [
    "# the backslash signs (\\), are used to note continuation lines in statement a=3/5\n",
    "a = 3 \\\n",
    "            +    \\\n",
    "                      5\n",
    "print(a)"
   ]
  },
  {
   "cell_type": "code",
   "execution_count": null,
   "metadata": {},
   "outputs": [],
   "source": [
    "\n",
    "# parantheses also allow breaking lines, \"extreme\" example with print(a/(a+1), a**2)\n",
    "\n",
    "print(a\n",
    "      / (a + 1)\n",
    "       \n",
    "      \n",
    "                     ,\n",
    "     \n",
    "      a\n",
    "   \n",
    "          \n",
    "                  **                               2\n",
    "         \n",
    "                                          )"
   ]
  },
  {
   "cell_type": "code",
   "execution_count": null,
   "metadata": {},
   "outputs": [],
   "source": [
    "# use \\ to show continuation line \n",
    "'abcd\\\n",
    "efg'"
   ]
  },
  {
   "cell_type": "code",
   "execution_count": null,
   "metadata": {},
   "outputs": [],
   "source": [
    "# example with triple single quotes\n",
    "'''abc\n",
    "defg'''"
   ]
  },
  {
   "cell_type": "code",
   "execution_count": null,
   "metadata": {},
   "outputs": [],
   "source": [
    "# example with triple double quotes\n",
    "s1 = \"\"\"abc\n",
    "defg\"\"\" \n",
    "\n",
    "print(s1) # preserves the over-the-lines shape"
   ]
  },
  {
   "cell_type": "markdown",
   "metadata": {},
   "source": [
    "#### ASCII and UNICODE tables of characters\n",
    "**ASCII** : American Standard Code for Information Interchange, is a character table originally based on the Latin alphabet.<br>\n",
    "\n",
    "**Unicode** is the new computing industry standard for encoding, representation, and handling of text found in most of the world's writing systems. \n",
    "\n",
    "Unicode 12.0, contains a repertoire of 137,993 characters covering 150 modern and historic scripts, as well as multiple symbol sets and emoji. \n"
   ]
  },
  {
   "cell_type": "markdown",
   "metadata": {},
   "source": [
    "#### the function  `ord(c)`\n",
    "Given `c`, a string representing one Unicode character, `ord(c)` returns an integer representing the Unicode place of character `c` in the `Unicode` table.\n",
    "\n",
    "Example:"
   ]
  },
  {
   "cell_type": "code",
   "execution_count": null,
   "metadata": {},
   "outputs": [],
   "source": [
    "ord('a')"
   ]
  },
  {
   "cell_type": "code",
   "execution_count": null,
   "metadata": {},
   "outputs": [],
   "source": [
    "ord('א')"
   ]
  },
  {
   "cell_type": "code",
   "execution_count": null,
   "metadata": {},
   "outputs": [],
   "source": [
    "ord('人') # ran...people"
   ]
  },
  {
   "cell_type": "code",
   "execution_count": null,
   "metadata": {},
   "outputs": [],
   "source": [
    "ord('好') # hao - good"
   ]
  },
  {
   "cell_type": "code",
   "execution_count": null,
   "metadata": {},
   "outputs": [],
   "source": [
    "# ord returns an integer so we can use it as operand in a numeric expression:\n",
    "print(ord('a')+ord(' '))  # ord of a blanc  "
   ]
  },
  {
   "cell_type": "markdown",
   "metadata": {},
   "source": [
    "####  the function `chr(i)`\n",
    "Returns the string representing a character whose Unicode position (in the table) is the integer `i`.  It is the inverse of `ord()`.\n",
    "\n",
    "Example:"
   ]
  },
  {
   "cell_type": "code",
   "execution_count": null,
   "metadata": {},
   "outputs": [],
   "source": [
    "chr(97)"
   ]
  },
  {
   "cell_type": "code",
   "execution_count": null,
   "metadata": {},
   "outputs": [],
   "source": [
    "chr(8364)"
   ]
  },
  {
   "cell_type": "code",
   "execution_count": null,
   "metadata": {},
   "outputs": [],
   "source": [
    "# now with string expressions:\n",
    "print('Iosi likes the letter ' + chr(1488) )"
   ]
  },
  {
   "cell_type": "code",
   "execution_count": null,
   "metadata": {},
   "outputs": [],
   "source": [
    "# a naive error:\n",
    "print('Iosi likes the letter ' + 'chr(1488)' )"
   ]
  },
  {
   "cell_type": "markdown",
   "metadata": {},
   "source": [
    "#### the empty string: `\"\"`"
   ]
  },
  {
   "cell_type": "code",
   "execution_count": null,
   "metadata": {},
   "outputs": [],
   "source": [
    "# a string can be empty: an empty container\n",
    "# possible notations of empty strings\n",
    "empty_str = ''\n",
    "empty_str = \"\"\n",
    "empty_str = \"\"\"\"\"\""
   ]
  },
  {
   "cell_type": "code",
   "execution_count": null,
   "metadata": {},
   "outputs": [],
   "source": [
    "print(\"\")\n",
    "print(id(\"\"))"
   ]
  },
  {
   "cell_type": "markdown",
   "metadata": {},
   "source": [
    "#### Operations between strings\n",
    "`Concatenation` שרשור – 'glueing' 2 strings.\n",
    "\n",
    " - operators: `+`, `0 or more spaces`\n",
    " \n",
    "the `+` is overloaded : in diff classes has different meanings, depending on context (which class). Adding a string to a number is not defined in either `int` nor in `str` classes.\n",
    " \n",
    "\n"
   ]
  },
  {
   "cell_type": "code",
   "execution_count": null,
   "metadata": {},
   "outputs": [],
   "source": [
    "# operator + from clas str\n",
    "\"abc\" + \"123\""
   ]
  },
  {
   "cell_type": "code",
   "execution_count": null,
   "metadata": {},
   "outputs": [],
   "source": [
    "# close position \n",
    "\"2n3\"'bbg'"
   ]
  },
  {
   "cell_type": "code",
   "execution_count": null,
   "metadata": {},
   "outputs": [],
   "source": [
    "# a number of blancs between the strings\n",
    "'abcd'                            'x12v'"
   ]
  },
  {
   "cell_type": "code",
   "execution_count": null,
   "metadata": {},
   "outputs": [],
   "source": [
    "# concat strings by names only with operator +\n",
    "s1 = 'abc'\n",
    "s2 = '123'\n",
    "s1 + s2"
   ]
  },
  {
   "cell_type": "code",
   "execution_count": null,
   "metadata": {},
   "outputs": [],
   "source": [
    "# more examples of different concat operations : \n",
    "print('a' + 'b', 'c'\"d\", 'e'   \"f\")\n"
   ]
  },
  {
   "cell_type": "markdown",
   "metadata": {
    "slideshow": {
     "slide_type": "slide"
    }
   },
   "source": [
    "#### PRINTING STRINGS"
   ]
  },
  {
   "cell_type": "code",
   "execution_count": null,
   "metadata": {},
   "outputs": [],
   "source": [
    "# print a new line\n",
    "print() # due to the default value of the end keyword : end='\\n'  \n",
    " "
   ]
  },
  {
   "cell_type": "code",
   "execution_count": null,
   "metadata": {},
   "outputs": [],
   "source": [
    "# 3 args and a concat\n",
    "print ('Jeru' + \"salem\" ,\"\"\"of\"\"\", '''Gold''')\n"
   ]
  },
  {
   "cell_type": "code",
   "execution_count": null,
   "metadata": {},
   "outputs": [],
   "source": [
    "# quotes within quotes enable printing of quotes within texts\n",
    "print('''Ben's friend said: \"wher's the coffee?\" ''')\n"
   ]
  },
  {
   "cell_type": "markdown",
   "metadata": {},
   "source": [
    "#### More examples : displaying strings as expressions, without `print()` "
   ]
  },
  {
   "cell_type": "code",
   "execution_count": null,
   "metadata": {},
   "outputs": [],
   "source": [
    "# Without the print command – shell evaluates and displayes the string with its quotes\n",
    "'Jerusalem of Gold'\n"
   ]
  },
  {
   "cell_type": "code",
   "execution_count": null,
   "metadata": {},
   "outputs": [],
   "source": [
    "# CONCATENATION,the + is overloaded\n",
    "'abc' + \"\"\"xyzv\"\"\" '''00-$#'''                           \" e` quasi 'troppo' lontano\"\n"
   ]
  },
  {
   "cell_type": "markdown",
   "metadata": {
    "slideshow": {
     "slide_type": "slide"
    }
   },
   "source": [
    "#### the function `len(x)`\n",
    " - returns the number of characters in the string x ,(an integer >=0)\n",
    " - works only with containers - like strings,tuples,lists , returns the number of elements in container x\n",
    " - numbers are not containers "
   ]
  },
  {
   "cell_type": "markdown",
   "metadata": {},
   "source": [
    "#### `len()` on a literal string and on its name "
   ]
  },
  {
   "cell_type": "code",
   "execution_count": null,
   "metadata": {},
   "outputs": [],
   "source": [
    "dir(__builtins__)"
   ]
  },
  {
   "cell_type": "code",
   "execution_count": null,
   "metadata": {},
   "outputs": [],
   "source": [
    "len(\"abcd\")"
   ]
  },
  {
   "cell_type": "code",
   "execution_count": null,
   "metadata": {},
   "outputs": [],
   "source": [
    "s1 = 'abcd'"
   ]
  },
  {
   "cell_type": "code",
   "execution_count": null,
   "metadata": {},
   "outputs": [],
   "source": [
    "len(s1)"
   ]
  },
  {
   "cell_type": "code",
   "execution_count": null,
   "metadata": {},
   "outputs": [],
   "source": [
    "len(\"\") # number of characters in an empty string"
   ]
  },
  {
   "cell_type": "code",
   "execution_count": null,
   "metadata": {},
   "outputs": [],
   "source": [
    "# len as a numeric operand in an expression :\n",
    "3 + len('xyzadc34   09') + len(s1)\n"
   ]
  },
  {
   "cell_type": "code",
   "execution_count": null,
   "metadata": {},
   "outputs": [],
   "source": [
    "# len, a function for container , does not work for numbers which are not containers\n",
    "len(123) # ...TypeError\n"
   ]
  },
  {
   "cell_type": "markdown",
   "metadata": {
    "slideshow": {
     "slide_type": "slide"
    }
   },
   "source": [
    "#### More operations (here methods) for the  members of the class/(“club”) `str`\n",
    "`s.count(t)`: counts and returns the number of occurrences of string `t` in string `s`<br>\n",
    "`s.find(t)` : finds and returns the 1st position (starting from the left side), of string `t` in string s. If `t` is not in `s` it returns `-1`.<br>\n",
    "\n",
    "Members positions in sequences start from **`0`** : in `'abcde'`, `'a'` is in position **0, `'b'` in position 1**, and `'e'` in position **4**.<br>\n",
    "\n",
    "\n",
    "`s.upper()` : returns a **new** string created from s with all letters as upper case,does not change the original string<br>"
   ]
  },
  {
   "cell_type": "markdown",
   "metadata": {},
   "source": [
    "#### `count()` סופר מספר מופעים של תת-מחרוזת במחרוזת נתונה"
   ]
  },
  {
   "cell_type": "code",
   "execution_count": null,
   "metadata": {},
   "outputs": [],
   "source": [
    "'iosi'.count('i') # the argument of count is a string\n"
   ]
  },
  {
   "cell_type": "code",
   "execution_count": null,
   "metadata": {},
   "outputs": [],
   "source": [
    "s3 = \"abracadabra\""
   ]
  },
  {
   "cell_type": "code",
   "execution_count": null,
   "metadata": {},
   "outputs": [],
   "source": [
    "s3.count('a') # count how many 'a' are in s3"
   ]
  },
  {
   "cell_type": "code",
   "execution_count": null,
   "metadata": {},
   "outputs": [],
   "source": [
    "s3.count('b')"
   ]
  },
  {
   "cell_type": "code",
   "execution_count": null,
   "metadata": {},
   "outputs": [],
   "source": [
    "s3.count('x')"
   ]
  },
  {
   "cell_type": "code",
   "execution_count": null,
   "metadata": {},
   "outputs": [],
   "source": [
    "s3.count('ab')"
   ]
  },
  {
   "cell_type": "code",
   "execution_count": null,
   "metadata": {},
   "outputs": [],
   "source": [
    "s3.count('bra')"
   ]
  },
  {
   "cell_type": "code",
   "execution_count": null,
   "metadata": {},
   "outputs": [],
   "source": [
    "123.count(1) # not for numbers..SyntaxError: invalid syntax!\n"
   ]
  },
  {
   "cell_type": "markdown",
   "metadata": {
    "slideshow": {
     "slide_type": "slide"
    }
   },
   "source": [
    "#### `find()` the first location (starting from left to right) of a substring in a string"
   ]
  },
  {
   "cell_type": "code",
   "execution_count": null,
   "metadata": {},
   "outputs": [],
   "source": [
    "'iosi'.find('s')\n"
   ]
  },
  {
   "cell_type": "code",
   "execution_count": null,
   "metadata": {},
   "outputs": [],
   "source": [
    "'iosi'.find('x') \n"
   ]
  },
  {
   "cell_type": "code",
   "execution_count": null,
   "metadata": {},
   "outputs": [],
   "source": [
    "s3.find('c')"
   ]
  },
  {
   "cell_type": "code",
   "execution_count": null,
   "metadata": {},
   "outputs": [],
   "source": [
    "s3.find('x')"
   ]
  },
  {
   "cell_type": "code",
   "execution_count": null,
   "metadata": {},
   "outputs": [],
   "source": [
    "s3.find('ab')"
   ]
  },
  {
   "cell_type": "markdown",
   "metadata": {
    "slideshow": {
     "slide_type": "slide"
    }
   },
   "source": [
    "#### `lower/upper case` for letters in a string"
   ]
  },
  {
   "cell_type": "code",
   "execution_count": null,
   "metadata": {},
   "outputs": [],
   "source": [
    "'IoSi'.lower()"
   ]
  },
  {
   "cell_type": "code",
   "execution_count": null,
   "metadata": {},
   "outputs": [],
   "source": [
    "'iosi'.upper()\n"
   ]
  },
  {
   "cell_type": "code",
   "execution_count": null,
   "metadata": {},
   "outputs": [],
   "source": [
    "s3.upper()"
   ]
  },
  {
   "cell_type": "markdown",
   "metadata": {},
   "source": [
    "#### `str.capitalize()`\n",
    "Return a copy of the string with its first character capitalized and the rest lowercased.\n"
   ]
  },
  {
   "cell_type": "code",
   "execution_count": null,
   "metadata": {},
   "outputs": [],
   "source": [
    "'my first data container'.capitalize()"
   ]
  },
  {
   "cell_type": "markdown",
   "metadata": {},
   "source": [
    "#### `str.title()`\n",
    "Returns a title cased version of the string where words start with an uppercase character and the remaining characters are lowercase."
   ]
  },
  {
   "cell_type": "code",
   "execution_count": null,
   "metadata": {},
   "outputs": [],
   "source": [
    "'my first data container'.title()"
   ]
  },
  {
   "cell_type": "code",
   "execution_count": null,
   "metadata": {},
   "outputs": [],
   "source": [
    "s1 = 'my first data container'\n",
    "print('the new string:',s1.title())\n",
    "print('the original string:',s1)"
   ]
  },
  {
   "cell_type": "markdown",
   "metadata": {},
   "source": [
    "#### `str.replace(old, new [, count])`\n",
    "Return a copy of the string with all occurrences of substring `old` replaced by `new`. \n",
    "If the optional argument `count` is given, only the first `count` occurrences are replaced."
   ]
  },
  {
   "cell_type": "code",
   "execution_count": null,
   "metadata": {},
   "outputs": [],
   "source": [
    "s3.replace(\"a\", '*',2)"
   ]
  },
  {
   "cell_type": "code",
   "execution_count": null,
   "metadata": {},
   "outputs": [],
   "source": [
    "s3.replace(\"ab\", '*/')\n"
   ]
  },
  {
   "cell_type": "markdown",
   "metadata": {},
   "source": [
    "#### The replace method works from the left to the right when it replaces between its arguments.\n",
    "- The `old`, `new`  arguments in   `str.replace(old, new [, count])` can have different lengths, and\n",
    "the `count` arg is optional (this is how we mention optional arguments in syntax notation )\n"
   ]
  },
  {
   "cell_type": "code",
   "execution_count": null,
   "metadata": {},
   "outputs": [],
   "source": [
    "# this creates a new string which is assigned to variable s4\n",
    "s4 = s3.replace(\"a\", 'xxxx', 3) # the first 3 occurrences of 'a' (from the left to right) are replaced\n",
    "print(\"s4 = \", s4)"
   ]
  },
  {
   "cell_type": "code",
   "execution_count": null,
   "metadata": {},
   "outputs": [],
   "source": [
    "# creates a new string where all occurences of substring  \"ab\", were replaced by an empty string (removed)\n",
    "# it is assigned to s5.\n",
    "s5 = s3.replace(\"ab\", '')\n",
    "print(\"s5 = \", s5)\n",
    "print(\"s3 = \", s3)  # no changes to original s3\n"
   ]
  },
  {
   "cell_type": "code",
   "execution_count": null,
   "metadata": {},
   "outputs": [],
   "source": [
    "print('s3 id :',id(s3), ', s4 id :', id(s4),', s5 id :',id(s5))"
   ]
  },
  {
   "cell_type": "markdown",
   "metadata": {},
   "source": [
    "#### So: if `count` is negative, too big, or not mentioned, the method \"gracefully\" replaces all occurences as mentioned by the `new` ,`old` arguments "
   ]
  },
  {
   "cell_type": "code",
   "execution_count": null,
   "metadata": {},
   "outputs": [],
   "source": [
    "# count is negative  \n",
    "s3.replace(\"a\", 'A', -7)"
   ]
  },
  {
   "cell_type": "code",
   "execution_count": null,
   "metadata": {},
   "outputs": [],
   "source": [
    "# no replacements are done if count is zero \n",
    "s3.replace(\"a\", 'A', 0)"
   ]
  },
  {
   "cell_type": "code",
   "execution_count": null,
   "metadata": {},
   "outputs": [],
   "source": [
    "# count is too big\n",
    "s3.replace(\"a\", 'A', 100)"
   ]
  },
  {
   "cell_type": "markdown",
   "metadata": {},
   "source": [
    "#### `str.format(*args, **kwargs)` - to perform a string formatting operation. \n",
    "\n",
    "The string on which this method is called can contain:\n",
    " - literal text, or \n",
    " - replacement fields delimited by braces {}. \n",
    " \n",
    "Each replacement field contains either the numeric index of a positional argument, or the name of a keyword argument. \n",
    "\n",
    "Returns a copy of the string where each replacement field is replaced with the string value of the corresponding argument.\n",
    "\n"
   ]
  },
  {
   "cell_type": "code",
   "execution_count": null,
   "metadata": {},
   "outputs": [],
   "source": [
    "\"The result of {} is {}\".format('123 - 21', pow(123 - 21, 2/2) - 0)"
   ]
  },
  {
   "cell_type": "code",
   "execution_count": null,
   "metadata": {},
   "outputs": [],
   "source": [
    "\"The value of {} is approx {}\".format('pi', 22/7)"
   ]
  },
  {
   "cell_type": "code",
   "execution_count": null,
   "metadata": {},
   "outputs": [],
   "source": [
    "\"The value of {} is approx {}\".format('pi', 355/113)"
   ]
  },
  {
   "cell_type": "code",
   "execution_count": null,
   "metadata": {},
   "outputs": [],
   "source": [
    "print('He likes to eat {} and to drink \"{}!\"'.format('salad', 'tea'))"
   ]
  },
  {
   "cell_type": "code",
   "execution_count": null,
   "metadata": {},
   "outputs": [],
   "source": [
    "print('He likes to eat {} and to drink \"{}!\"'.format('meat', 'vodka'))"
   ]
  },
  {
   "cell_type": "code",
   "execution_count": null,
   "metadata": {},
   "outputs": [],
   "source": [
    "print('He likes to eat {0} and to drink \"{4}!\"'.format('salad', 'tea', 'pizza','a cake', 'a coke'))"
   ]
  },
  {
   "cell_type": "markdown",
   "metadata": {
    "slideshow": {
     "slide_type": "slide"
    }
   },
   "source": [
    "<h2><center>Testing membership in containers (strings, lists,...) with the operator `in` </center></h2>\n",
    "\n",
    "operators :`in` , `not in`  check membership in containers, and return a boolean value: `True`, `False`\n"
   ]
  },
  {
   "cell_type": "code",
   "execution_count": null,
   "metadata": {},
   "outputs": [],
   "source": [
    "# this is a logical expression\n",
    "'a' in 'abc'"
   ]
  },
  {
   "cell_type": "code",
   "execution_count": null,
   "metadata": {},
   "outputs": [],
   "source": [
    "'d' in 'abc'"
   ]
  },
  {
   "cell_type": "code",
   "execution_count": null,
   "metadata": {},
   "outputs": [],
   "source": [
    "'ab' in 'abc' # unique for strings: it checks membership of strings of len>1 too"
   ]
  },
  {
   "cell_type": "code",
   "execution_count": null,
   "metadata": {},
   "outputs": [],
   "source": [
    "'ac' not in 'abc' # 'a' and 'c' are in 'abc' but not adjacent"
   ]
  },
  {
   "cell_type": "code",
   "execution_count": null,
   "metadata": {},
   "outputs": [],
   "source": [
    "# again this operator is not for numbers\n",
    "2 in 123 # TypeError: argument of class 'int' is not iterable\n"
   ]
  },
  {
   "cell_type": "markdown",
   "metadata": {
    "slideshow": {
     "slide_type": "slide"
    }
   },
   "source": [
    "\n",
    "<h2><center>Indexing in strings (and other ordered containers: lists,...)</center></h2>\n",
    "\n",
    "Indices of members of sequences x start from `0` to `len(x)-1`\n",
    "\n",
    "Indexing in a string literal:"
   ]
  },
  {
   "cell_type": "code",
   "execution_count": null,
   "metadata": {},
   "outputs": [],
   "source": [
    "'abcd'[0]"
   ]
  },
  {
   "cell_type": "code",
   "execution_count": null,
   "metadata": {},
   "outputs": [],
   "source": [
    "'abcd'[3]"
   ]
  },
  {
   "cell_type": "code",
   "execution_count": null,
   "metadata": {},
   "outputs": [],
   "source": [
    "# 4 looks in but it is not \n",
    "'abcd'[4]"
   ]
  },
  {
   "cell_type": "markdown",
   "metadata": {},
   "source": [
    "###  indexing the variable that names the string"
   ]
  },
  {
   "cell_type": "code",
   "execution_count": null,
   "metadata": {},
   "outputs": [],
   "source": [
    "s1 = \"abcd\""
   ]
  },
  {
   "cell_type": "code",
   "execution_count": null,
   "metadata": {},
   "outputs": [],
   "source": [
    "\n",
    "s1[0]"
   ]
  },
  {
   "cell_type": "code",
   "execution_count": null,
   "metadata": {},
   "outputs": [],
   "source": [
    "s1[3]"
   ]
  },
  {
   "cell_type": "markdown",
   "metadata": {
    "slideshow": {
     "slide_type": "slide"
    }
   },
   "source": [
    "### The index of the last element of a string/sequence"
   ]
  },
  {
   "cell_type": "code",
   "execution_count": null,
   "metadata": {},
   "outputs": [],
   "source": [
    "s1[len(s1) - 1]# using the variable"
   ]
  },
  {
   "cell_type": "code",
   "execution_count": null,
   "metadata": {},
   "outputs": [],
   "source": [
    "\"abcd\"[len('abcd') - 1] # using the literal"
   ]
  },
  {
   "cell_type": "markdown",
   "metadata": {},
   "source": [
    "### Indexing using negative indices"
   ]
  },
  {
   "cell_type": "code",
   "execution_count": null,
   "metadata": {},
   "outputs": [],
   "source": [
    "s1[-1] # last character"
   ]
  },
  {
   "cell_type": "code",
   "execution_count": null,
   "metadata": {},
   "outputs": [],
   "source": [
    "s1[-2] # before the last character"
   ]
  },
  {
   "cell_type": "markdown",
   "metadata": {
    "slideshow": {
     "slide_type": "slide"
    }
   },
   "source": [
    "<h2><center> Slice of a string, or of an ordered container</center></h2>\n",
    "\n",
    " - slice of a string s is a substring (also of type `str`), from s \n",
    " - given s and two integers: a,b , `s[a:b]` provides a substring of `s` from positions `a` to `b-1`"
   ]
  },
  {
   "cell_type": "code",
   "execution_count": null,
   "metadata": {},
   "outputs": [],
   "source": [
    "s1 = '0123456789'\n",
    "s1[2:5]"
   ]
  },
  {
   "cell_type": "code",
   "execution_count": null,
   "metadata": {},
   "outputs": [],
   "source": [
    "s2 = \"abcdefghij\""
   ]
  },
  {
   "cell_type": "code",
   "execution_count": null,
   "metadata": {},
   "outputs": [],
   "source": [
    "s2[2:6]"
   ]
  },
  {
   "cell_type": "markdown",
   "metadata": {},
   "source": [
    "##### Defaults"
   ]
  },
  {
   "cell_type": "code",
   "execution_count": null,
   "metadata": {},
   "outputs": [],
   "source": [
    "s1[:6] # from first char to 5th char (6-1)"
   ]
  },
  {
   "cell_type": "code",
   "execution_count": null,
   "metadata": {},
   "outputs": [],
   "source": [
    "s1[2:] # from 3rd char to the last"
   ]
  },
  {
   "cell_type": "code",
   "execution_count": null,
   "metadata": {},
   "outputs": [],
   "source": [
    "s1[:] # the entire string"
   ]
  },
  {
   "cell_type": "code",
   "execution_count": null,
   "metadata": {},
   "outputs": [],
   "source": [
    "s1[2:-1] # from 3rd char to prev to last"
   ]
  },
  {
   "cell_type": "markdown",
   "metadata": {},
   "source": [
    "#### How to get more string Help: "
   ]
  },
  {
   "cell_type": "code",
   "execution_count": null,
   "metadata": {},
   "outputs": [],
   "source": [
    "help(str)"
   ]
  },
  {
   "cell_type": "markdown",
   "metadata": {},
   "source": [
    "#### How data 'gets into' a program ? \n",
    "*Manual* (hard work) :<br>\n",
    " - writing it explicitly as literal values in expressions ,<br> \n",
    "(Literal values 'on their way to the memory' appear in **expressions**) :<br>\n",
    "`> 2 / 3` <br>\n",
    "`> x = 2 % (y - 1)` <br>\n",
    "`> s = \"Iosi\"` <br>\n",
    "\n",
    "*External* : reading it in from outside sources <br>\n",
    "\n",
    " - User (kbd) – by the `input()` function\n",
    " - from Disk files\n",
    " - 'Pipes' from other active programs\n",
    " - Scientific instruments, sensors\n",
    " - 'Hackers' in the system\n",
    "\n",
    "*Automatic*- by 'creating'(\"growing\") it in our program: with increements, loops, range,..."
   ]
  },
  {
   "cell_type": "markdown",
   "metadata": {
    "slideshow": {
     "slide_type": "slide"
    }
   },
   "source": [
    "\n",
    "<h3><center>Input  - How to get (in) data from a user</center></h3>\n"
   ]
  },
  {
   "cell_type": "markdown",
   "metadata": {},
   "source": [
    "#### The function `input([str prompt])` \n",
    "built-in function\n",
    "-  it prompts the user with a string, \n",
    "-  reads a single line of text from the keyboard\n",
    "-  returns whatever the user had typed, ‘packaged’\n",
    "   as a string (even numbers)\n",
    "-  the input can be 'directly' assigned to a variable\n"
   ]
  },
  {
   "cell_type": "code",
   "execution_count": null,
   "metadata": {
    "scrolled": true
   },
   "outputs": [],
   "source": [
    "s = input('please enter your name: ') # input assigned to s "
   ]
  },
  {
   "cell_type": "code",
   "execution_count": null,
   "metadata": {},
   "outputs": [],
   "source": [
    "s  "
   ]
  },
  {
   "cell_type": "markdown",
   "metadata": {},
   "source": [
    "Whatever a user types in, `input()` packs it as a string and 'brings it' in. To 'free out' data of different types from this string package, we use casting functions.\n"
   ]
  },
  {
   "cell_type": "markdown",
   "metadata": {
    "slideshow": {
     "slide_type": "slide"
    }
   },
   "source": [
    "### Casting - converting values between different types - \n",
    "To ‘get  the numbers’ from the strings we can use ‘conversion’ builtin functions like : `float()`, `int()`, there are more..\n"
   ]
  },
  {
   "cell_type": "code",
   "execution_count": null,
   "metadata": {},
   "outputs": [],
   "source": [
    "n = input('pls enter a number: ')\n"
   ]
  },
  {
   "cell_type": "code",
   "execution_count": null,
   "metadata": {},
   "outputs": [],
   "source": [
    "n  # n is packed as a string\n"
   ]
  },
  {
   "cell_type": "code",
   "execution_count": null,
   "metadata": {},
   "outputs": [],
   "source": [
    "int(n)      # converts and writes out the VALUE of n as an int, but n itself is not changed\n"
   ]
  },
  {
   "cell_type": "code",
   "execution_count": null,
   "metadata": {},
   "outputs": [],
   "source": [
    "n  # n remains a str\n"
   ]
  },
  {
   "cell_type": "code",
   "execution_count": null,
   "metadata": {},
   "outputs": [],
   "source": [
    "n = int(n)    # will re-bind n to the int value of n\n",
    "n"
   ]
  },
  {
   "cell_type": "code",
   "execution_count": null,
   "metadata": {},
   "outputs": [],
   "source": [
    "# more 'compactish':\n",
    "n = int(input('pls enter an int: '))\n"
   ]
  },
  {
   "cell_type": "code",
   "execution_count": null,
   "metadata": {},
   "outputs": [],
   "source": [
    "n\n"
   ]
  },
  {
   "cell_type": "code",
   "execution_count": null,
   "metadata": {},
   "outputs": [],
   "source": [
    "# the same with floats:\n",
    "t = float(input('pls enter a float: '))\n"
   ]
  },
  {
   "cell_type": "code",
   "execution_count": null,
   "metadata": {},
   "outputs": [],
   "source": [
    "t\n"
   ]
  },
  {
   "cell_type": "markdown",
   "metadata": {
    "slideshow": {
     "slide_type": "slide"
    }
   },
   "source": [
    "#### The magic of the builtin function `eval()`  \n",
    "`eval(expression)` parses and evaluates its argument as a Python expression.   \n",
    "\n",
    "(this expression is packed as a string)\n",
    "\n",
    "\n"
   ]
  },
  {
   "cell_type": "markdown",
   "metadata": {},
   "source": [
    "eval expects expressions, and evaluates them, try these :\n",
    " - `\"2+3\"`\n",
    " - `\"pow(2,3)\"`\n",
    " - `\"pow(2,3)/pow(12,3)-sin(70)-max(22,11,44,66)\"` \n",
    " - `'abc' + 'xyz'`\n",
    " - `\"'abc' 'xyz'\"`\n",
    " - `\"'abc'*2\"`\n",
    " \n",
    " BTW it is `eval()` that works for you in the shell.."
   ]
  },
  {
   "cell_type": "code",
   "execution_count": null,
   "metadata": {},
   "outputs": [],
   "source": [
    "eval(\"pow(3,4)\")\n"
   ]
  },
  {
   "cell_type": "code",
   "execution_count": null,
   "metadata": {},
   "outputs": [],
   "source": [
    "n = eval(input('a float please:'))\n",
    "n\n"
   ]
  },
  {
   "cell_type": "code",
   "execution_count": null,
   "metadata": {},
   "outputs": [],
   "source": [
    "n = eval(input('an int please:'))\n",
    "n\n"
   ]
  },
  {
   "cell_type": "markdown",
   "metadata": {},
   "source": [
    "#### In  this part of the Lecture 2, we saw:\n",
    "\n",
    "- line continuation, \n",
    "- Ascii and unicode tables, builtin functions ord(), char()\n",
    "- the string: ordered container of single characters \n",
    "- the empty string, string methods, indexing, slicing, \n",
    "- input, casting functions float, int, and eval"
   ]
  }
 ],
 "metadata": {
  "kernelspec": {
   "display_name": "Python 3",
   "language": "python",
   "name": "python3"
  },
  "language_info": {
   "codemirror_mode": {
    "name": "ipython",
    "version": 3
   },
   "file_extension": ".py",
   "mimetype": "text/x-python",
   "name": "python",
   "nbconvert_exporter": "python",
   "pygments_lexer": "ipython3",
   "version": "3.7.4"
  }
 },
 "nbformat": 4,
 "nbformat_minor": 2
}
