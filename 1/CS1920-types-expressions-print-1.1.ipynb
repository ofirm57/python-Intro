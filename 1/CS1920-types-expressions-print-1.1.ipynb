{
 "cells": [
  {
   "cell_type": "markdown",
   "metadata": {
    "slideshow": {
     "slide_type": "slide"
    }
   },
   "source": [
    "<h1><center> Lecture 1.1</center></h1>\n",
    "<h2><center> Types, expressions, shell, comments, print</center></h2>\n",
    "<h3><center>Introduction to Computer Science </center></h3>\n",
    "<h4><center>Dr. Arie Schlesinger, HUJI, Spring 2020</center></h4>\n",
    "\n"
   ]
  },
  {
   "cell_type": "markdown",
   "metadata": {},
   "source": [
    "### Software\n",
    "- For the course exercises it is recommended to install **PyCharm** - also found on the CS labs.\n",
    "\n",
    "- For working with the Jupyter Notebook, you can install **Anaconda, python 3.x**\n",
    "\n",
    "- Simpler Interpreters alternatives:\n",
    "\n",
    "- Windows/Mac command/terminal window **> python**\n",
    "\n",
    "`...`\n",
    "\n",
    "`>>> 2+3`\n",
    "\n",
    "`5`\n",
    "\n",
    "`...`"
   ]
  },
  {
   "cell_type": "markdown",
   "metadata": {},
   "source": [
    "### Basic data types (values) in python:\n",
    "\n",
    "- Integers: ...-3, 0, 67,..., `class int`        \n",
    "\n",
    "- Rationals:...-1.2, 0.0, 34.89,..., `class float` \n",
    "\n",
    "- Strings of characters: `'abc<)'`,  `\"17^5 Ca\"`,`\"\"\" H9q=6\"\"\"`,...,`class str`\n",
    "\n",
    "  enclosed in single or double quotes\n",
    "  enclosed in triple quotes can allow multiple line strings\n",
    "\n",
    "\n",
    "- Booleans: `true`, `false`, `class bool`\n",
    "\n",
    "There are more data types."
   ]
  },
  {
   "cell_type": "markdown",
   "metadata": {},
   "source": [
    "### To operate on the data  we use:\n",
    "\n",
    "- `functions`: take 0 or more arguments \n",
    "`pow(4.2, -6.7)` \n",
    "\n",
    "- `operators` : like mathematical operators : +, -, *, /,..., and more\n",
    "`2/7`\n",
    "\n",
    "- `methods`: like functions but attached to some data and operating upon it\n",
    "\n",
    "`'Iosi'.count('i')`, `'Ety'.upper()`\n",
    "\n",
    "attached by using a dot (.) notation\n"
   ]
  },
  {
   "cell_type": "code",
   "execution_count": null,
   "metadata": {},
   "outputs": [],
   "source": [
    "pow(4.2, -6.7) # a built in function"
   ]
  },
  {
   "cell_type": "code",
   "execution_count": null,
   "metadata": {},
   "outputs": [],
   "source": [
    "2/7"
   ]
  },
  {
   "cell_type": "code",
   "execution_count": null,
   "metadata": {},
   "outputs": [],
   "source": [
    "'Iosi'.count('i')"
   ]
  },
  {
   "cell_type": "code",
   "execution_count": null,
   "metadata": {},
   "outputs": [],
   "source": [
    "'Ety'.upper()"
   ]
  },
  {
   "cell_type": "markdown",
   "metadata": {
    "slideshow": {
     "slide_type": "slide"
    }
   },
   "source": [
    "<h3><center> Types and addresses of the data/values</center></h3>\n",
    "\n",
    "#### Which class please ? <br>\n",
    "\n",
    "Want to know to which class/type/club some values belong ? ask ‘inspector’ `type()`:\n"
   ]
  },
  {
   "cell_type": "code",
   "execution_count": null,
   "metadata": {
    "slideshow": {
     "slide_type": "subslide"
    }
   },
   "outputs": [],
   "source": [
    "type(2)"
   ]
  },
  {
   "cell_type": "code",
   "execution_count": null,
   "metadata": {},
   "outputs": [],
   "source": [
    "type(3.14159)"
   ]
  },
  {
   "cell_type": "code",
   "execution_count": null,
   "metadata": {},
   "outputs": [],
   "source": [
    "type('abc')"
   ]
  },
  {
   "cell_type": "markdown",
   "metadata": {},
   "source": [
    "#### actually the answers in different interpreters may have the form:\n",
    "`<class 'int’>`, `<class 'float’>`, `<class 'str’>`"
   ]
  },
  {
   "cell_type": "markdown",
   "metadata": {},
   "source": [
    "#### Your Identity please ?\n",
    "\n",
    "You can also know the identity (the **address**) of any piece of data . Just ask ‘inspector’ `id()`:"
   ]
  },
  {
   "cell_type": "code",
   "execution_count": null,
   "metadata": {},
   "outputs": [],
   "source": [
    "id(3)"
   ]
  },
  {
   "cell_type": "code",
   "execution_count": null,
   "metadata": {},
   "outputs": [],
   "source": [
    "id(3.14159)"
   ]
  },
  {
   "cell_type": "code",
   "execution_count": null,
   "metadata": {},
   "outputs": [],
   "source": [
    "id('abc')"
   ]
  },
  {
   "cell_type": "code",
   "execution_count": null,
   "metadata": {},
   "outputs": [],
   "source": [
    "help(id) # address of the object"
   ]
  },
  {
   "cell_type": "markdown",
   "metadata": {
    "slideshow": {
     "slide_type": "slide"
    }
   },
   "source": [
    "#### Objects<br>\n",
    "‘Club members’ are also called **objects of their class**.<br>\n",
    "\n",
    "In Python, 'everything' is an object. Objects have 3 attributes: `class`, `identity`, `value`.<br>\n",
    "\n",
    "For example: the object `-6`, has the value `-6`,and class and id as follows: \n"
   ]
  },
  {
   "cell_type": "code",
   "execution_count": null,
   "metadata": {},
   "outputs": [],
   "source": [
    "type(-6)"
   ]
  },
  {
   "cell_type": "code",
   "execution_count": null,
   "metadata": {},
   "outputs": [],
   "source": [
    "id(-6)"
   ]
  },
  {
   "cell_type": "markdown",
   "metadata": {},
   "source": [
    "The class also defines a set of operations available for its members. <br>\n",
    "These operations can be performed on the objects, or enable interactions between objects.\n"
   ]
  },
  {
   "cell_type": "markdown",
   "metadata": {
    "slideshow": {
     "slide_type": "slide"
    }
   },
   "source": [
    "<h3><center>Python 'warehouse': about (some) 'machine parts', and what can we do with them</center></h3>\n"
   ]
  },
  {
   "cell_type": "markdown",
   "metadata": {},
   "source": [
    "### Some simple parts <br>\n",
    "Arithmetic operators (for all numeric types values): `+,-,*,/,**,%,//`…\n",
    "\n",
    "String operators: `*, +` (concatenation),… (*con catena* : 'with chains' in Latin)\n",
    "\n",
    "These operators are mainly used in **expressions**\n",
    "\n",
    "#### Expression (ביטוי) can be: \n",
    " - a value, or \n",
    " - a description of a computation : a combination of operators, values, functions (and other expressions)\n",
    " - usually expressions can be evaluated/reduced to a single value\n",
    "\n",
    "   \n",
    "Examples:<br>\n",
    "Numeric : `17`,  `-5 * 31 + 15.3`,  `1.2 ** -3.4`\n",
    "   \n",
    "String :`'Iosi'`, `'abcd'*2`,  `\"xyz”+'v'`\n",
    "\n",
    "The Python interpreter evaluates expressions : the result is a value.<br>\n",
    "(Actually, anything that evaluates to a value is an expression.)\n",
    "\n",
    "Operators that ‘work’ in more than one 'club' are called `overloaded.`<br>\n",
    "They depend on the context, to know what to do.\n",
    "\n",
    "Expressions are considered small programs (machines)."
   ]
  },
  {
   "cell_type": "markdown",
   "metadata": {
    "slideshow": {
     "slide_type": "slide"
    }
   },
   "source": [
    "<h2><span style=\"color:green\">* * * * * </span></h2>\n",
    "\n",
    "\n",
    "#### Mixed numeric expressions<br>\n",
    "Numeric expressions can have numeric operands of different types:\n",
    "\n",
    "`(int + float)`: `2 + 3.1` -> `5.1` … (the result is float)\n",
    "\n",
    "**Widening coercion** (`int > float > complex`) is automatically applied to preserve the exactness of the result .\n",
    "\n",
    "<h2><div style='text-align: left'><span style=\"color:red\">* * * * * </span></div></h2>"
   ]
  },
  {
   "cell_type": "markdown",
   "metadata": {},
   "source": [
    "#### Precedence of arithmetical operators  in expressions<br>\n",
    "Basically, as you've learned in  חטיבת הביניים\n",
    " - `()` :parentheses\n",
    " - `**` :exponent\n",
    " - `+a`, `-a` : unary signs\n",
    " - `*, /, //, %` :mult, div, floor div, modulus\n",
    " - `+,-` : binary plus and minus \n",
    " \n",
    " \n",
    "\n",
    "\n",
    "\n",
    "\n"
   ]
  },
  {
   "cell_type": "markdown",
   "metadata": {
    "slideshow": {
     "slide_type": "slide"
    }
   },
   "source": [
    "<h3><center>Evaluating expressions in the interpreter shell </center></h3>\n",
    "\n",
    "#### `int` expressions"
   ]
  },
  {
   "cell_type": "code",
   "execution_count": null,
   "metadata": {},
   "outputs": [],
   "source": [
    "2 + 3 * (14 - 5)\n"
   ]
  },
  {
   "cell_type": "code",
   "execution_count": null,
   "metadata": {},
   "outputs": [],
   "source": [
    "40 - 2 ** 5\n"
   ]
  },
  {
   "cell_type": "code",
   "execution_count": null,
   "metadata": {},
   "outputs": [],
   "source": [
    "21 % 13 + 3\n"
   ]
  },
  {
   "cell_type": "code",
   "execution_count": null,
   "metadata": {},
   "outputs": [],
   "source": [
    "# results of quotient and remainder\n",
    "divmod(21, 13) # the result is \"packed\" in a container called tuple..\n"
   ]
  },
  {
   "cell_type": "markdown",
   "metadata": {
    "slideshow": {
     "slide_type": "slide"
    }
   },
   "source": [
    "#### float expressions"
   ]
  },
  {
   "cell_type": "code",
   "execution_count": null,
   "metadata": {
    "slideshow": {
     "slide_type": "subslide"
    }
   },
   "outputs": [],
   "source": [
    "3.0 ** 4.\n"
   ]
  },
  {
   "cell_type": "code",
   "execution_count": null,
   "metadata": {},
   "outputs": [],
   "source": [
    "21.7 % 13.5  \n",
    " "
   ]
  },
  {
   "cell_type": "code",
   "execution_count": null,
   "metadata": {},
   "outputs": [],
   "source": [
    "# quotient and remainder for float values\n",
    "divmod(21.7, 13.5)\n"
   ]
  },
  {
   "cell_type": "code",
   "execution_count": null,
   "metadata": {},
   "outputs": [],
   "source": [
    "# INTEGER DIVISION\n",
    "12 // 5\n"
   ]
  },
  {
   "cell_type": "code",
   "execution_count": null,
   "metadata": {},
   "outputs": [],
   "source": [
    "# MIXED ARITH EXPRESSIONS: float, int, COERCION\n",
    "2 + 3.0\n"
   ]
  },
  {
   "cell_type": "code",
   "execution_count": null,
   "metadata": {},
   "outputs": [],
   "source": [
    "# a conversion formula-70 degrees FAHREENHEIT  to CELSIUS (here with literals only)\n",
    "(70 - 32) * 5 / 9\n"
   ]
  },
  {
   "cell_type": "markdown",
   "metadata": {},
   "source": [
    "#### Overloading of `+`, `*` , in class `str`\n",
    "\n",
    "The `+` is used in to concatenate strings - the result is a new string.\n",
    "\n",
    "The `*` is used to created new strings by repeatedly concatenating the same string.\n"
   ]
  },
  {
   "cell_type": "markdown",
   "metadata": {
    "slideshow": {
     "slide_type": "slide"
    }
   },
   "source": [
    "<h2><span style=\"color:green\">* * * * * </span></h2>\n",
    "\n",
    "#### Type checks are performed at runtime <br>\n",
    "(to make sure operands have the correct types for an operation)\n",
    "\n",
    "Can not mix  `str` + `int`"
   ]
  },
  {
   "cell_type": "code",
   "execution_count": null,
   "metadata": {},
   "outputs": [],
   "source": [
    "'abc' + 2 # …Error…type is invalid."
   ]
  },
  {
   "cell_type": "markdown",
   "metadata": {},
   "source": [
    "We can not mix `str` + `float` either"
   ]
  },
  {
   "cell_type": "code",
   "execution_count": null,
   "metadata": {},
   "outputs": [],
   "source": [
    "\"abc\" + 1.2"
   ]
  },
  {
   "cell_type": "markdown",
   "metadata": {},
   "source": [
    "But the following expression does evaluate because `string * int` repeats `string` `int` times, and it is defined in class `str`: "
   ]
  },
  {
   "cell_type": "code",
   "execution_count": null,
   "metadata": {},
   "outputs": [],
   "source": [
    "'abc' * 2"
   ]
  },
  {
   "cell_type": "markdown",
   "metadata": {},
   "source": [
    "#### Here we see the logic in the use of classes and inter member operations. (and the implicit benefit of order)"
   ]
  },
  {
   "cell_type": "markdown",
   "metadata": {},
   "source": [
    "<h2><div style='text-align: left'><span style=\"color:red\">* * * * * </span></div></h2>"
   ]
  },
  {
   "cell_type": "markdown",
   "metadata": {
    "slideshow": {
     "slide_type": "slide"
    }
   },
   "source": [
    "### More simple parts - The comparison operators:\n",
    "**Relational operators:**\n",
    " - `<` strictly less than\n",
    " - `<=` less than or equal\n",
    " - `>` strictly greater than\n",
    " - `>=` greater than or equal\n",
    " - `==` Equal\n",
    " - `!=` not equal\n",
    " \n",
    "**Identity comparison:**\n",
    " \n",
    " - `is` : object identity\n",
    " - `is not` : negated object identity"
   ]
  },
  {
   "cell_type": "markdown",
   "metadata": {},
   "source": [
    "#### `Boolean` expressions \n",
    " - the result can be : `True`,or `False`, which is a value of the `bool` type ( = class `bool`)"
   ]
  },
  {
   "cell_type": "code",
   "execution_count": null,
   "metadata": {
    "slideshow": {
     "slide_type": "slide"
    }
   },
   "outputs": [],
   "source": [
    "2/3 > 22/33 - 0.00000000001"
   ]
  },
  {
   "cell_type": "code",
   "execution_count": null,
   "metadata": {},
   "outputs": [],
   "source": [
    "6 >= 13//2 + 0.000000000000001"
   ]
  },
  {
   "cell_type": "code",
   "execution_count": null,
   "metadata": {},
   "outputs": [],
   "source": [
    "3 == 24//7"
   ]
  },
  {
   "cell_type": "code",
   "execution_count": null,
   "metadata": {},
   "outputs": [],
   "source": [
    "12 / 13.01 == 12.0 / (26/2.0 + 1 / 100)"
   ]
  },
  {
   "cell_type": "code",
   "execution_count": null,
   "metadata": {},
   "outputs": [],
   "source": [
    "'atgc' == \"atgc\""
   ]
  },
  {
   "cell_type": "code",
   "execution_count": null,
   "metadata": {},
   "outputs": [],
   "source": [
    "'atgc' == \"atcg\"# same characters, not the same order"
   ]
  },
  {
   "cell_type": "code",
   "execution_count": null,
   "metadata": {},
   "outputs": [],
   "source": [
    "'atgc' != \"ATGC\" # not the same case"
   ]
  },
  {
   "cell_type": "code",
   "execution_count": null,
   "metadata": {},
   "outputs": [],
   "source": [
    "\"abc\" is \"abc\""
   ]
  },
  {
   "cell_type": "code",
   "execution_count": null,
   "metadata": {},
   "outputs": [],
   "source": [
    "id(\"abc\")"
   ]
  },
  {
   "cell_type": "code",
   "execution_count": null,
   "metadata": {},
   "outputs": [],
   "source": [
    "\"aBc\" is not \"abc\""
   ]
  },
  {
   "cell_type": "code",
   "execution_count": null,
   "metadata": {},
   "outputs": [],
   "source": [
    "id(\"aBc\")"
   ]
  },
  {
   "cell_type": "markdown",
   "metadata": {
    "slideshow": {
     "slide_type": "slide"
    }
   },
   "source": [
    " <h3><center>Comments - commenting the code</center></h3>\n",
    "\n",
    "A comment starts with a hash mark `#` and a blanc, and can continue to the end of the current line. <br>\n",
    "Motivation - to explain the code to humans readers. Comments are not *executed* by the program .<br>\n"
   ]
  },
  {
   "cell_type": "code",
   "execution_count": null,
   "metadata": {},
   "outputs": [],
   "source": [
    "# start line with a comment\n",
    "2 + 3 #  comments after the code on the same line"
   ]
  },
  {
   "cell_type": "markdown",
   "metadata": {},
   "source": [
    "#### king size comments, for lenghty explanations:\n",
    "`\"\"\"\n",
    " comment 1\n",
    " comment 2\n",
    " comment 3\n",
    " comment 4\n",
    "\"\"\"`\n",
    "\n",
    "Using three single/double quotes enables multiline writting free of special breaking lines signs."
   ]
  },
  {
   "cell_type": "markdown",
   "metadata": {},
   "source": [
    "What else helps to understand the code ? giving meaningful names to objects ... coming soon... "
   ]
  },
  {
   "cell_type": "markdown",
   "metadata": {
    "slideshow": {
     "slide_type": "slide"
    }
   },
   "source": [
    "<h3><center>Small programs for small problems</center></h3>\n",
    "\n",
    "Literal Expressions are **small programs for small problems** <br>\n",
    "(hand-calculators area )\n"
   ]
  },
  {
   "cell_type": "code",
   "execution_count": null,
   "metadata": {},
   "outputs": [],
   "source": [
    "2/4.5 + 54/109.2"
   ]
  },
  {
   "cell_type": "markdown",
   "metadata": {},
   "source": [
    "#### 'Professional' small programs : <br>\n",
    "**Builtin functions** - functions that are always available to use by the Python interpreter<br>\n",
    "**Library Functions** like: `sqrt()`, `ceil()`, `sin()`, that can be imported from `libraries/modules` like `math`"
   ]
  },
  {
   "cell_type": "markdown",
   "metadata": {
    "slideshow": {
     "slide_type": "slide"
    }
   },
   "source": [
    "Most such functions can be parts of numeric expressions because they return numeric values, example:\n"
   ]
  },
  {
   "cell_type": "code",
   "execution_count": null,
   "metadata": {},
   "outputs": [],
   "source": [
    "# use of builtin functions\n",
    "1 - abs(-2) + 2 * round(2/7,5) + pow(2,3) % 3"
   ]
  },
  {
   "cell_type": "code",
   "execution_count": null,
   "metadata": {},
   "outputs": [],
   "source": [
    "round(2/7,5)"
   ]
  },
  {
   "cell_type": "markdown",
   "metadata": {},
   "source": [
    "Values returned by the functions as: `abs`, `round`, `pow` can be used as operands in the expression evaluation,<br>\n",
    "Example:"
   ]
  },
  {
   "cell_type": "code",
   "execution_count": null,
   "metadata": {},
   "outputs": [],
   "source": [
    "# another example\n",
    "2 + max(7, 2, 9, 8) * 2 + min(9, 3, 10, 4) \n"
   ]
  },
  {
   "cell_type": "markdown",
   "metadata": {
    "slideshow": {
     "slide_type": "slide"
    }
   },
   "source": [
    "#### How to import functions from the math module:"
   ]
  },
  {
   "cell_type": "code",
   "execution_count": null,
   "metadata": {},
   "outputs": [],
   "source": [
    "from math import sqrt, factorial, sin\n",
    "# these functions can be used only after being imported:\n",
    "sqrt(1234)\n"
   ]
  },
  {
   "cell_type": "code",
   "execution_count": null,
   "metadata": {},
   "outputs": [],
   "source": [
    "# factorial too:\n",
    "factorial(123) "
   ]
  },
  {
   "cell_type": "code",
   "execution_count": null,
   "metadata": {},
   "outputs": [],
   "source": [
    "# use of some functions imported from math module, in expressions  \n",
    "12 + sqrt(44) / sin(78) + pow(1.2, 2.3)\n"
   ]
  },
  {
   "cell_type": "markdown",
   "metadata": {},
   "source": [
    "#### Want to know more about builtin functions ?"
   ]
  },
  {
   "cell_type": "code",
   "execution_count": null,
   "metadata": {},
   "outputs": [],
   "source": [
    "dir(__builtins__) # functions and other constructs\n"
   ]
  },
  {
   "cell_type": "code",
   "execution_count": null,
   "metadata": {},
   "outputs": [],
   "source": [
    "help(__builtins__)\n"
   ]
  },
  {
   "cell_type": "markdown",
   "metadata": {
    "slideshow": {
     "slide_type": "slide"
    }
   },
   "source": [
    "\n",
    "<h3><center>The print() function - The basic way to do output</center></h3>\n",
    "\n",
    "\n",
    "We saw one way of writing values: **expression statements**. <br>\n",
    "The second way is with the `print()` function. (There is a third way too...)<br>\n",
    "\n",
    "The results of the expressions evaluated appear in the shell, but to make these results visible to a user (of your program), we have to print them explicitely. <br>\n",
    "For that we use the function print().\n",
    "\n",
    "The arguments of `print()` are a series of expressions/values separated by commas. Each value is implicitely converted into a string\n",
    "and printed.\n",
    "\n",
    "When printing `string` arguments, their enclosing quotes are ('gracefully') removed. \n",
    "\n",
    "\n",
    "The **non-keyword** arguments - objects/values - are written on the display.\n",
    "\n",
    "If these arguments are *unevaluated expressions*, `print()` will write their values. \n",
    "\n",
    "After printing, the cursor is set on the next line.\n",
    "\n"
   ]
  },
  {
   "cell_type": "code",
   "execution_count": null,
   "metadata": {},
   "outputs": [],
   "source": [
    "print(3.14)"
   ]
  },
  {
   "cell_type": "code",
   "execution_count": null,
   "metadata": {},
   "outputs": [],
   "source": [
    "print(2,3)"
   ]
  },
  {
   "cell_type": "code",
   "execution_count": null,
   "metadata": {},
   "outputs": [],
   "source": [
    "# printing 4 expressions/values\n",
    "print(round(2/7,8)**3 ,pow(3,2)/11, \"Malka\", \"reads a\", \"book\") # strings without quotes"
   ]
  },
  {
   "cell_type": "markdown",
   "metadata": {
    "slideshow": {
     "slide_type": "slide"
    }
   },
   "source": [
    "##### keyword arguments<br>\n",
    "Print has 'special' `keyword arguments` to provide 'some control' over the formatting. <br>\n",
    "These are `sep` and `end`, and their values must be strings:\n",
    "\n",
    " - `sep = 'someStr'` to set the string that separates between the objects written\n",
    " - `end = 'anotherStr'` - to set the string that ends this printing ,  <br>\n",
    "\n",
    "their defaults are:\n",
    "\n",
    " - `sep = ' '` (one blanc)\n",
    " - `end = '\\n '` (new line)\n",
    "\n",
    "(A keyword argument can also have the *special value*: `None`, in which case the default values will be used.)\n",
    "\n",
    "Using these defaults is the simplest way to print *space separated* values. \n",
    "\n"
   ]
  },
  {
   "cell_type": "code",
   "execution_count": null,
   "metadata": {},
   "outputs": [],
   "source": [
    "# default sep, end\n",
    "print(1, 2, 3)\n"
   ]
  },
  {
   "cell_type": "code",
   "execution_count": null,
   "metadata": {},
   "outputs": [],
   "source": [
    "# try a new sep value\n",
    "print(1, 2, 3, sep = '*')\n"
   ]
  },
  {
   "cell_type": "code",
   "execution_count": null,
   "metadata": {},
   "outputs": [],
   "source": [
    "# try a new end value\n",
    "print(1, 2, 3, end = '===')\n"
   ]
  },
  {
   "cell_type": "code",
   "execution_count": null,
   "metadata": {
    "slideshow": {
     "slide_type": "slide"
    }
   },
   "outputs": [],
   "source": [
    "print(2,end = None)\n"
   ]
  },
  {
   "cell_type": "code",
   "execution_count": null,
   "metadata": {},
   "outputs": [],
   "source": [
    "# try with more new sep and end values\n",
    "print(1, 2, 3, sep = '$', end = '^^^')\n"
   ]
  },
  {
   "cell_type": "markdown",
   "metadata": {
    "slideshow": {
     "slide_type": "slide"
    }
   },
   "source": [
    "##### `print()` without arguments<br>\n",
    "In this case, `print()` will just write the *end value* (or its default)."
   ]
  },
  {
   "cell_type": "code",
   "execution_count": null,
   "metadata": {},
   "outputs": [],
   "source": [
    "# no objects(args) to print, just a new end value\n",
    "print(end = '@#$%')\n"
   ]
  },
  {
   "cell_type": "code",
   "execution_count": null,
   "metadata": {},
   "outputs": [],
   "source": [
    "# the print function can take unevaluated expressions and print their values\n",
    "print ('PI',\"=\", 103993/33102) # BTW, this expression is a nice approx of pi\n"
   ]
  },
  {
   "cell_type": "markdown",
   "metadata": {
    "slideshow": {
     "slide_type": "slide"
    }
   },
   "source": [
    "#### we saw what `print()` writes, but what value it ` \"returns\"`  ?\n",
    "\n",
    " - `sqrt(4)` returns 2\n",
    " - `max(11,44,-2)` returns 44\n",
    " - `print(1,2,3)` writes: `1 2 3`, but it returns the value: `None`\n",
    "\n",
    "`None`: is a special constant that symbolizes `lack of value`.\n",
    "\n",
    "So, `sqrt(4)`, and `max(11,44,-2)` can be used as operands in expressions, but `print()` can not be used there\n",
    "even it is a 'function' <br>\n"
   ]
  },
  {
   "cell_type": "code",
   "execution_count": null,
   "metadata": {},
   "outputs": [],
   "source": [
    "round(2 + sqrt(4) / 5 - max(11, 44, -2) ** -1.4, 6)"
   ]
  },
  {
   "cell_type": "code",
   "execution_count": null,
   "metadata": {},
   "outputs": [],
   "source": [
    "#  let's try : \n",
    "2 + print(5) - 3\n"
   ]
  },
  {
   "cell_type": "markdown",
   "metadata": {
    "slideshow": {
     "slide_type": "slide"
    }
   },
   "source": [
    "<h2><span style=\"color:green\">* * * * * </span></h2>\n",
    "\n",
    "##### about formatting - escape characters \n",
    "a character follwing a backslash, here are some: \n",
    " - `\\n` procceed to a new line \n",
    " - `\\t` moves the next print to the next tab stop\n",
    " - `\\\\` print a backslash\n"
   ]
  },
  {
   "cell_type": "code",
   "execution_count": null,
   "metadata": {},
   "outputs": [],
   "source": [
    "print('a\\nb\\nc')"
   ]
  },
  {
   "cell_type": "code",
   "execution_count": null,
   "metadata": {},
   "outputs": [],
   "source": [
    "print('a\\tb\\tc')"
   ]
  },
  {
   "cell_type": "code",
   "execution_count": null,
   "metadata": {},
   "outputs": [],
   "source": [
    "print('a\\\\b\\\\c')"
   ]
  },
  {
   "cell_type": "markdown",
   "metadata": {
    "slideshow": {
     "slide_type": "slide"
    }
   },
   "source": [
    "<h3><center>Behaviour in the shell : statements</center></h3>\n",
    "\n",
    "#### Statement: an instructions that the interpreter can execute.<br>\n",
    "\n",
    "For example, \n",
    " - `2 + 3`\n",
    " - `print(1 + 2)`\n",
    "\n",
    "A statement must be complete on a `single line` (with a few exceptions):\n"
   ]
  },
  {
   "cell_type": "code",
   "execution_count": null,
   "metadata": {},
   "outputs": [],
   "source": [
    "# INCOMPLETE EXPRESSIONS ..Error\n",
    "2 +   \n",
    "8\n",
    " "
   ]
  },
  {
   "cell_type": "code",
   "execution_count": null,
   "metadata": {},
   "outputs": [],
   "source": [
    "# same SyntaxError: invalid syntax\n",
    "(70 - 32.0) * 5 /  \n"
   ]
  },
  {
   "cell_type": "code",
   "execution_count": null,
   "metadata": {
    "slideshow": {
     "slide_type": "slide"
    }
   },
   "outputs": [],
   "source": [
    "# un-necessary INDENTATION   (הזחה).. ERROR\n",
    "    15 - 6\n"
   ]
  },
  {
   "cell_type": "code",
   "execution_count": null,
   "metadata": {},
   "outputs": [],
   "source": [
    "# ‘grace’ for unclosed parentheses (),[],{} :\n",
    "# PYTHON WAITS FOR PARANTHESES TO CLOSE\n",
    "(2+\n",
    "3)\n"
   ]
  },
  {
   "cell_type": "code",
   "execution_count": null,
   "metadata": {},
   "outputs": [],
   "source": [
    "(75 - 32.0\n",
    "   ) * 5 / 9\n"
   ]
  },
  {
   "cell_type": "code",
   "execution_count": null,
   "metadata": {},
   "outputs": [],
   "source": [
    "# USE BACKSLASH TO BREAK A LONG STATEMENT TO THE NEXT LINE\n",
    "2 + 3 * \\\n",
    "  5\n"
   ]
  },
  {
   "cell_type": "markdown",
   "metadata": {
    "slideshow": {
     "slide_type": "slide"
    }
   },
   "source": [
    "#### LOOKING AROUND"
   ]
  },
  {
   "cell_type": "code",
   "execution_count": null,
   "metadata": {},
   "outputs": [],
   "source": [
    "help()\n",
    "# Welcome to Python 3.7,.....\n"
   ]
  },
  {
   "cell_type": "code",
   "execution_count": null,
   "metadata": {},
   "outputs": [],
   "source": [
    "help(\"EXPRESSIONS\")\n"
   ]
  },
  {
   "cell_type": "code",
   "execution_count": null,
   "metadata": {},
   "outputs": [],
   "source": [
    "print (__doc__)\n"
   ]
  }
 ],
 "metadata": {
  "kernelspec": {
   "display_name": "Python 3",
   "language": "python",
   "name": "python3"
  },
  "language_info": {
   "codemirror_mode": {
    "name": "ipython",
    "version": 3
   },
   "file_extension": ".py",
   "mimetype": "text/x-python",
   "name": "python",
   "nbconvert_exporter": "python",
   "pygments_lexer": "ipython3",
   "version": "3.7.4"
  }
 },
 "nbformat": 4,
 "nbformat_minor": 2
}
