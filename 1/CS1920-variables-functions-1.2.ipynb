{
 "cells": [
  {
   "cell_type": "markdown",
   "metadata": {
    "slideshow": {
     "slide_type": "slide"
    }
   },
   "source": [
    "<h1><center> Lecture 1.2</center></h1>\n",
    "<h2><center> Variables, Functions</center></h2>\n",
    "<h3><center>Introduction to Computer Science </center></h3>\n",
    "<h4><center>Dr. Arie Schlesinger, HUJI, Spring 2020</center></h4>\n"
   ]
  },
  {
   "cell_type": "markdown",
   "metadata": {
    "slideshow": {
     "slide_type": "slide"
    }
   },
   "source": [
    "<h2><center>Variables</center></h2>\n",
    "\n",
    "<h3><center>Objects can have names - variables are names of objects</center></h3>\n",
    "\n",
    "All things we use have names. Otherwise we could not describe or refer to anything. (unless we point to them... )<br>\n",
    "(Without the name 'piano' we could only try to use a description like: a black box with strings, keys, pedals.., but then the description uses other names,... )\n",
    "\n",
    "Generally, in a program  we describe operations on data. We need to name/refer-to the objects involved, like data and groups of instructions, and other parts. <br>\n",
    "\n",
    "This is done by **identifiers** (מזהים), **symbolic names** used to specify variables, functions, classes, modules, or other parts.\n",
    "\n",
    "A Python program accesses *data values* through references/names that refer to values/objects.\n",
    "\n",
    "A reference can be a variable (and also an attribute, or an item, ..later).\n",
    "\n",
    "Variables are called so because the information they represent  can change.\n"
   ]
  },
  {
   "cell_type": "markdown",
   "metadata": {},
   "source": [
    "#### Giving names to values/objects\n",
    "Until now we manipulated literal values/expressions directly.  \n",
    "\n",
    "Symbolic expressions can express general ideas, that can prove true when valid values are used :\n",
    " - `2 + 3`      vs  `x + y` ... the addition idea\n",
    " - `(3 + 5)/2`  vs  `(x + y)/2` ...the average \n",
    " - `3 + 1 > 3`  vs  `x + y > x` ...true for all positive values\n",
    "\n",
    "Symbolic expressions in programs add flexibility, and ease capture of computational ideas.\n",
    "Same idea is behind the use of functions.\n",
    "\n",
    "Giving names to values is the first step towards abstracting whole processes."
   ]
  },
  {
   "cell_type": "markdown",
   "metadata": {},
   "source": [
    "#### Assigning a value to a name  "
   ]
  },
  {
   "cell_type": "markdown",
   "metadata": {},
   "source": [
    "`=` is the assignment/binding operator\n",
    "\n",
    "It creates a binding between the name (on the left) and the value /object (on the right)"
   ]
  },
  {
   "cell_type": "markdown",
   "metadata": {},
   "source": [
    "A complete life cycle of a variable/name can be as follows:<br>\n",
    "\n",
    "starts with a binding, like:<br>\n",
    "`x = 8`<br>\n",
    "using it...<br>\n",
    "\n",
    "rebinding it:<br>\n",
    "`x = -1.2`<br>\n",
    "using it...<br>\n",
    "\n",
    "unbinding it:<br>\n",
    "`del x`\n",
    "\n",
    "Rebinding or unbinding a name/reference does not affect the object refered to. <br>\n",
    "\n",
    "An unrefered object can be *erased* by a mechanism called *garbage collection*.\n",
    "\n",
    "Examples:"
   ]
  },
  {
   "cell_type": "code",
   "execution_count": null,
   "metadata": {
    "slideshow": {
     "slide_type": "slide"
    }
   },
   "outputs": [],
   "source": [
    "# variable initializations.\n",
    "x = 5       # binds name x to 5 (obj) \n",
    "y = 1 + 3   # binds name y to result 4 (obj), not to the expr  1 + 3"
   ]
  },
  {
   "cell_type": "code",
   "execution_count": null,
   "metadata": {},
   "outputs": [],
   "source": [
    "# rebinding x\n",
    "x = 'Iosi'\n",
    "print(x)\n",
    "# unbinding x\n",
    "del x\n",
    "print(x) # let's see"
   ]
  },
  {
   "cell_type": "code",
   "execution_count": null,
   "metadata": {},
   "outputs": [],
   "source": [
    "# faulty names\n",
    "2ndString = 'second string'#  SyntaxError: invalid syntax: starts with a digit\n"
   ]
  },
  {
   "cell_type": "code",
   "execution_count": null,
   "metadata": {},
   "outputs": [],
   "source": [
    "# undefined variable\n",
    "# Vars can be parts of expressions, only if previously defined\n",
    "aVar + 1 # NameError: name 'aVar' is not defined\n"
   ]
  },
  {
   "cell_type": "markdown",
   "metadata": {
    "slideshow": {
     "slide_type": "slide"
    }
   },
   "source": [
    "##### Updating an existing variable\n",
    "A simple re-binding, can change the object a name represents, to another object."
   ]
  },
  {
   "cell_type": "code",
   "execution_count": null,
   "metadata": {},
   "outputs": [],
   "source": [
    "# x is just a name of the value of the expression\n",
    "x = 2 - 3\n",
    "id(x) # the address of the object -1\n"
   ]
  },
  {
   "cell_type": "code",
   "execution_count": null,
   "metadata": {},
   "outputs": [],
   "source": [
    "x = 'iosi' * 3\n",
    "id(x) # the address of the object iosiiosiiosi\n"
   ]
  },
  {
   "cell_type": "markdown",
   "metadata": {
    "slideshow": {
     "slide_type": "slide"
    }
   },
   "source": [
    "##### Remarks\n",
    "\n",
    "\n",
    "In math, `x = 2` is an equation. The `=` sign states the equivalemce between the expressions on the two sides: x and 2.<br>\n",
    "`2y = 3x+1` is another equation with 2 variables x,y ,with other equivalence.<br>\n",
    "\n",
    "An equation is a math formalism used to `'declare'` the equivalence of its two sides.<br>\n",
    "\n",
    "In programming, `x = 2` is an assignment operation whose effect after performing it is: `x` is the name of `2`.<br>\n",
    "\n",
    "<h2><div style='text-align: left'><span style=\"color:red\">* * * * * </span></div></h2>"
   ]
  },
  {
   "cell_type": "markdown",
   "metadata": {
    "slideshow": {
     "slide_type": "slide"
    }
   },
   "source": [
    "#### Identifiers/names rules\n",
    "\n",
    "Use 1 or more of :letters, digits, '_’ . Do not start with a digit. \n",
    "\n",
    "Case sensitive: `num`, `Num` are different, \n",
    "\n",
    "`newDiag` is better than `_x17_YtR` because meaningful names, explain your program.\n",
    " \n",
    " Any lenght is allowed, but too long names can impair readability.\n",
    " \n",
    "`TheNameOfTheValueWeGotFromTheFileInTheSecondDirectoryInMyPreviousLapTop = 3`\n",
    "\n"
   ]
  },
  {
   "cell_type": "markdown",
   "metadata": {},
   "source": [
    "##### keywords\n",
    "Keywords are reserved words with specific meanings in programming languages.\n",
    "\n",
    "Do not use them as variables names."
   ]
  },
  {
   "cell_type": "code",
   "execution_count": null,
   "metadata": {},
   "outputs": [],
   "source": [
    "# Avoid Python keywords as vars names, see the Python keywords:\n",
    "from keyword import kwlist\n",
    "kwlist"
   ]
  },
  {
   "cell_type": "code",
   "execution_count": null,
   "metadata": {},
   "outputs": [],
   "source": [
    "len(kwlist)"
   ]
  },
  {
   "cell_type": "markdown",
   "metadata": {
    "slideshow": {
     "slide_type": "slide"
    }
   },
   "source": [
    "##### increements and shortcuts\n",
    "In 'math', `a = a + 1` can be true, only if `a` is a *cardinal (infinite) number*\n",
    "\n",
    "But in 'programming' `a = a + 1` practicaly means : increase the value of `a` by `1`.\n",
    "\n",
    "This increement is a common operation and it even has a shortcut:<br>\n",
    "`a += 1` means `a = a + 1`, and in the same spirit: `a += b` means `a = a + b` .\n",
    "\n",
    "Can you guess what all the other following shortcuts do?:\n",
    "\n",
    " - `a -= b`,\n",
    " - `a *= b`,\n",
    " - `a /= b`,\n",
    " - `a //= b`,\n",
    " - `a **= b`,\n",
    " - `a %= b`\n"
   ]
  },
  {
   "cell_type": "code",
   "execution_count": null,
   "metadata": {},
   "outputs": [],
   "source": [
    "a = 5 # a is binded to 5\n",
    "a\n"
   ]
  },
  {
   "cell_type": "code",
   "execution_count": null,
   "metadata": {},
   "outputs": [],
   "source": [
    "a = a + 1 \n",
    "# first evaluate the right hand expr and then re-binds a with the new result \n"
   ]
  },
  {
   "cell_type": "code",
   "execution_count": null,
   "metadata": {},
   "outputs": [],
   "source": [
    "a # a is binded to 6\n"
   ]
  },
  {
   "cell_type": "markdown",
   "metadata": {
    "slideshow": {
     "slide_type": "slide"
    }
   },
   "source": [
    "<h2><span style=\"color:green\">* * * * * </span></h2>\n",
    "\n",
    "#### Magic numbers \n",
    "\n",
    "Some programmers prefer to create variables for values that are going to be **reused a lot**.<br>\n",
    "For scarcer uses (once or twice), they might prefer to use the literal-value itself.(magic number)\n",
    "\n",
    "<h2><div style='text-align: left'><span style=\"color:red\">* * * * * </span></div></h2>"
   ]
  },
  {
   "cell_type": "code",
   "execution_count": null,
   "metadata": {},
   "outputs": [],
   "source": []
  },
  {
   "cell_type": "markdown",
   "metadata": {
    "slideshow": {
     "slide_type": "slide"
    }
   },
   "source": [
    "#### More on names\n",
    "Each obj/value **belongs to a  class**, but the variable names have no class, and can be names/refer to any type of data - Python is \"dynamically typed\". \n",
    "\n",
    "The name and its assigned value, have the same id (memory address) as the value:\n",
    "\n",
    "One object, can have many names, example:"
   ]
  },
  {
   "cell_type": "code",
   "execution_count": null,
   "metadata": {},
   "outputs": [],
   "source": [
    "x = 1000\n",
    "y = x\n",
    "z = y\n",
    "\n",
    "# all are the names of 1000, and have the same address as 1000\n",
    "print('x address:',id(x))\n",
    "print('y address:',id(y))\n",
    "print('z address:',id(z))\n"
   ]
  },
  {
   "cell_type": "markdown",
   "metadata": {
    "slideshow": {
     "slide_type": "slide"
    }
   },
   "source": [
    "#### Changing the object of one of the names :\n"
   ]
  },
  {
   "cell_type": "code",
   "execution_count": null,
   "metadata": {},
   "outputs": [],
   "source": [
    "y = 2\n",
    "\n",
    "print('x address:',id(x))\n",
    "print('z address:',id(z))\n",
    "print('y address:',id(y))\n",
    "print('2 address:',id(2))\n",
    "\n"
   ]
  },
  {
   "cell_type": "markdown",
   "metadata": {
    "slideshow": {
     "slide_type": "slide"
    }
   },
   "source": [
    "#### Multiple Assignments"
   ]
  },
  {
   "cell_type": "code",
   "execution_count": null,
   "metadata": {},
   "outputs": [],
   "source": [
    "# Assign diff names to same obj (in one ‘shot’) :\n",
    "a = b = c = d = 2\n",
    "print(a, b, c, d)\n"
   ]
  },
  {
   "cell_type": "code",
   "execution_count": null,
   "metadata": {},
   "outputs": [],
   "source": [
    "# Assign diff obj to diff names at the same time : \n",
    "x, y = 2, 3\n",
    "#x\n"
   ]
  },
  {
   "cell_type": "code",
   "execution_count": null,
   "metadata": {},
   "outputs": [],
   "source": [
    "y\n"
   ]
  },
  {
   "cell_type": "code",
   "execution_count": null,
   "metadata": {},
   "outputs": [],
   "source": [
    "# We can swap the values between the names:\n",
    "x, y = y, x\n",
    "x\n"
   ]
  },
  {
   "cell_type": "code",
   "execution_count": null,
   "metadata": {},
   "outputs": [],
   "source": [
    "# (with the compliments of tuple unpacking magic)\n",
    "y \n"
   ]
  },
  {
   "cell_type": "markdown",
   "metadata": {},
   "source": [
    "<h2><span style=\"color:green\">* * * * * </span></h2>"
   ]
  },
  {
   "cell_type": "code",
   "execution_count": null,
   "metadata": {},
   "outputs": [],
   "source": [
    "x = y = z = 7"
   ]
  },
  {
   "cell_type": "code",
   "execution_count": null,
   "metadata": {},
   "outputs": [],
   "source": [
    "# Packing\n",
    "# what's in x,y,z all together? \n",
    "# Another tuple trick:'dump' variables values\n",
    "x, y, z \n",
    "#(7, 7, 7)\n"
   ]
  },
  {
   "cell_type": "markdown",
   "metadata": {},
   "source": [
    "#### The “concierge”:\n",
    "In the interactive mode (only), there is a special variable: `_` that stores the result of the last operation.\n",
    "\n",
    "(called “concierge” by some pythonistas)\n",
    "\n",
    "\n",
    "\n"
   ]
  },
  {
   "cell_type": "code",
   "execution_count": null,
   "metadata": {},
   "outputs": [],
   "source": [
    "2 + 3\n"
   ]
  },
  {
   "cell_type": "code",
   "execution_count": null,
   "metadata": {},
   "outputs": [],
   "source": [
    "_ * 3\n"
   ]
  },
  {
   "cell_type": "code",
   "execution_count": null,
   "metadata": {},
   "outputs": [],
   "source": [
    "# Useful when we need the result of the last operation\n",
    "_\n"
   ]
  },
  {
   "cell_type": "markdown",
   "metadata": {},
   "source": [
    "##### some remarks\n",
    " - A variable is a name which refers to an object\n",
    " - the object is an important part of the program, the variable name is only a 'label'.\n",
    " - enable storing (temp) results of expressions for later use\n",
    " - generalization, abstraction : `x + y` represents the addition idea\n",
    " \n",
    " \n",
    " <h2><div style='text-align: left'><span style=\"color:red\">* * * * * </span></div></h2>\n",
    " \n",
    " ***"
   ]
  },
  {
   "cell_type": "markdown",
   "metadata": {},
   "source": [
    "####  `printing` variables\n",
    "prints the values of the variables"
   ]
  },
  {
   "cell_type": "code",
   "execution_count": null,
   "metadata": {},
   "outputs": [],
   "source": [
    "name = \"Ety\"\n",
    "print (name) # prints strings without quotes\n"
   ]
  },
  {
   "cell_type": "code",
   "execution_count": null,
   "metadata": {},
   "outputs": [],
   "source": [
    "num = -12\n",
    "fact = 3.4\n",
    "print(num, fact) # separator is one blanc\n"
   ]
  },
  {
   "cell_type": "code",
   "execution_count": null,
   "metadata": {},
   "outputs": [],
   "source": [
    "# typically 'label and value' printing\n",
    "print (\"num = \", num, \"fact = \", fact)\n"
   ]
  },
  {
   "cell_type": "markdown",
   "metadata": {},
   "source": [
    "<h2><span style=\"color:green\">* * * * * </span></h2>"
   ]
  },
  {
   "cell_type": "code",
   "execution_count": null,
   "metadata": {},
   "outputs": [],
   "source": [
    "# print vars, expressions, examples\n",
    "n = 'November'\n",
    "birth = 1992\n",
    "year = 2020 \n",
    "\n",
    "print ('Iosi', \"will be\", year - birth, 'years old in', n)\n"
   ]
  },
  {
   "cell_type": "markdown",
   "metadata": {},
   "source": [
    "<h2><div style='text-align: left'><span style=\"color:red\">* * * * * </span></div></h2>\n",
    "\n",
    "##### We saw how to name values/objects. Can we name expressions/statements too ?"
   ]
  },
  {
   "cell_type": "markdown",
   "metadata": {
    "slideshow": {
     "slide_type": "slide"
    }
   },
   "source": [
    "<h3><center>User defined functions in Python</center></h3>\n",
    "\n",
    "\n",
    "A function is a group of statements that together perform some simple specific task.\n",
    "\n",
    "The general syntax of a function:\n",
    "    \n",
    "`def function_name(parameters_list):\n",
    "\t'''docstring'''    # comment about the function\n",
    "\tstatement(s)`\n",
    "    \n",
    "If docstring is longer than a line, enclose it with triple quotes "
   ]
  },
  {
   "cell_type": "code",
   "execution_count": null,
   "metadata": {},
   "outputs": [],
   "source": [
    "# Example\n",
    "def hello(name):\n",
    "    'prints a greeting'\n",
    "    print('Hello', name)\n"
   ]
  },
  {
   "cell_type": "markdown",
   "metadata": {},
   "source": [
    "#### Function calls"
   ]
  },
  {
   "cell_type": "code",
   "execution_count": null,
   "metadata": {},
   "outputs": [],
   "source": [
    "# function call \n",
    "hello('Ety')"
   ]
  },
  {
   "cell_type": "markdown",
   "metadata": {},
   "source": [
    "\n",
    "##### syntax\n",
    "The function header starts with the keyword: `def`, and ends with a colon (:)<br>\n",
    "Between them: the `function_name` and a `parameters list` which are separated by comas, and enclosed in parentheses.<br>\n",
    "\n",
    "\n",
    "The function_name is an identifier, it respects the same rules as the variables, and is unique in a program.<br>\n",
    "Practically, the `function_name` \"represents\" the group of statements written in the function body. \n"
   ]
  },
  {
   "cell_type": "markdown",
   "metadata": {},
   "source": [
    "#### What statements we saw until now ? "
   ]
  },
  {
   "cell_type": "code",
   "execution_count": null,
   "metadata": {},
   "outputs": [],
   "source": [
    "# expressions, assignments, print, functions calls\n",
    "x = 2+pow(3.1,4.2)\n",
    "print()"
   ]
  },
  {
   "cell_type": "markdown",
   "metadata": {},
   "source": [
    "##### Indentation\n",
    "The function statements are indented by 4 spaces typically.<br> \n",
    "Indentation is the way of python to group statements, and it is used to limit blocks of statements. <br>\n",
    "\n",
    "**Advantage:** Indentation defines *code blocks*, and makes the code more readable .<br>\n"
   ]
  },
  {
   "cell_type": "code",
   "execution_count": null,
   "metadata": {},
   "outputs": [],
   "source": [
    "# example of automatic identation\n",
    "def myfunction():\n",
    "    \"prints my name\"\n",
    "    print('Arie')"
   ]
  },
  {
   "cell_type": "markdown",
   "metadata": {},
   "source": [
    "##### The DocString (the 3-quotes string) documents the function. \n",
    "Though optional, it is highly appreciated (very much by us too).\n"
   ]
  },
  {
   "cell_type": "code",
   "execution_count": null,
   "metadata": {},
   "outputs": [],
   "source": [
    "help(hello_class) # prints the docstring"
   ]
  },
  {
   "cell_type": "markdown",
   "metadata": {},
   "source": [
    "##### parameters_list (optional) is used to pass values to the function.\n",
    "A list of identifiers which get bound to the values passed to the function when calling it. \n",
    "\n",
    "**Formalities:**\n",
    "\n",
    "At definition, the identifiers are named **(formal) parameters** , but the values supplied when the function is called are called **arguments** .\n",
    "\n",
    "At definition the parameters_list can be empty."
   ]
  },
  {
   "cell_type": "markdown",
   "metadata": {},
   "source": [
    "##### the `return` statement\n",
    "(optional too)<br>\n",
    "In python every function returns a value when called. This can done by a special statement: `return`, which can return one value.<br>\n",
    "\n",
    "But, if there is no return statement, or the return specifies no value, the constant `None` is returned. \n",
    "\n",
    "##### Examples:"
   ]
  },
  {
   "cell_type": "code",
   "execution_count": null,
   "metadata": {},
   "outputs": [],
   "source": [
    "def f1(x):  # returns a value\n",
    "    return pow(x, x + 1)"
   ]
  },
  {
   "cell_type": "code",
   "execution_count": null,
   "metadata": {},
   "outputs": [],
   "source": [
    "print(f1(2))"
   ]
  },
  {
   "cell_type": "code",
   "execution_count": null,
   "metadata": {},
   "outputs": [],
   "source": [
    "def f2(x):  # no return statement - returns None\n",
    "    y = pow(x, x + 1)\n"
   ]
  },
  {
   "cell_type": "code",
   "execution_count": null,
   "metadata": {},
   "outputs": [],
   "source": [
    "print(f2(3))"
   ]
  },
  {
   "cell_type": "code",
   "execution_count": null,
   "metadata": {},
   "outputs": [],
   "source": [
    "def f3(x): # return st without a value - returns None\n",
    "    x = x + 1\n",
    "    return"
   ]
  },
  {
   "cell_type": "code",
   "execution_count": null,
   "metadata": {},
   "outputs": [],
   "source": [
    "print(f3(4))"
   ]
  },
  {
   "cell_type": "code",
   "execution_count": null,
   "metadata": {},
   "outputs": [],
   "source": [
    "def hello_class(season, year): # the definition\n",
    "    'writes a greeting for the Intro course'\n",
    "    greeting = 'Welcome Intro class of '\n",
    "    print(greeting, season, year)"
   ]
  },
  {
   "cell_type": "code",
   "execution_count": null,
   "metadata": {},
   "outputs": [],
   "source": [
    "hello_class(\"Spring\", 2020) "
   ]
  },
  {
   "cell_type": "code",
   "execution_count": null,
   "metadata": {},
   "outputs": [],
   "source": [
    "hello_class(\"Fall\", 2019)"
   ]
  },
  {
   "cell_type": "markdown",
   "metadata": {},
   "source": [
    "##### calling a function:\n",
    "\n",
    "Writing and running the function does not activate it. <br>\n",
    "\n",
    "`function_name(parameters_list)`  **calls/activates** an already defined function.\n",
    "\n",
    "The **function name** is considered **an expression**, and just running it calls the function.\n",
    "\n",
    "\n",
    "Functions can be written in any place in the program.*Best*: place all functions at the beginning of a program.\n",
    "\n",
    "A function can not be called if the call is placed before the function. \n"
   ]
  },
  {
   "cell_type": "code",
   "execution_count": null,
   "metadata": {},
   "outputs": [],
   "source": [
    "def f(x, y): # the definition\n",
    "    'adds two values'\n",
    "    return x + y\n"
   ]
  },
  {
   "cell_type": "code",
   "execution_count": null,
   "metadata": {},
   "outputs": [],
   "source": [
    "f(2,3)      # a \"numeric\" call"
   ]
  },
  {
   "cell_type": "code",
   "execution_count": null,
   "metadata": {},
   "outputs": [],
   "source": [
    "# + is a string operator too\n",
    "f('a', 'bcd') # another call\n"
   ]
  },
  {
   "cell_type": "markdown",
   "metadata": {},
   "source": [
    "##### `calls` to user defined functions can be operands in expressions:\n"
   ]
  },
  {
   "cell_type": "code",
   "execution_count": null,
   "metadata": {},
   "outputs": [],
   "source": [
    "x = 2 + f(5, 4) / f(-12, 10)\n",
    "print(x)"
   ]
  },
  {
   "cell_type": "markdown",
   "metadata": {},
   "source": [
    "##### Function def before/after the call to it"
   ]
  },
  {
   "cell_type": "code",
   "execution_count": null,
   "metadata": {},
   "outputs": [],
   "source": [
    "a = 2\n",
    "b = 3\n",
    "f1(a, b) # call before the def\n",
    "def f1(x, y):\n",
    "    \"power + 1\"  # for a short documentation a simple string is enough\n",
    "    print(pow(x, y) + 1)\n",
    "    "
   ]
  },
  {
   "cell_type": "code",
   "execution_count": null,
   "metadata": {},
   "outputs": [],
   "source": [
    "a = 2\n",
    "b = 3\n",
    "def f1(x, y):\n",
    "    \"power + 1\" # doc string\n",
    "    print(pow(x, y) + 1)\n",
    "    \n",
    "f1(a, b) # call after the def"
   ]
  },
  {
   "cell_type": "code",
   "execution_count": null,
   "metadata": {},
   "outputs": [],
   "source": [
    "help(f1) # printing the doc string\n"
   ]
  },
  {
   "cell_type": "code",
   "execution_count": null,
   "metadata": {},
   "outputs": [],
   "source": [
    "def try():\n",
    "    print('I am printed') \n",
    "    return\n",
    "    print('I am not')"
   ]
  },
  {
   "cell_type": "markdown",
   "metadata": {},
   "source": [
    "<h2><span style=\"color:green\">* * * * * </span></h2>\n",
    "\n",
    "When writing a function, we have to consider:\n",
    " - the input to the function\n",
    " - the operations to be performed\n",
    " - which value to return\n"
   ]
  },
  {
   "cell_type": "markdown",
   "metadata": {},
   "source": [
    "##### Functions motivation\n",
    "\n",
    "\n",
    "Our programs can be conceived as series of smaller tasks. Therefore it is only natural to define a function for each task.<br> \n",
    "When breaking the problem into smaller tasks, we also consider tasks reusability. In this way, functions eliminate code repetition, enable better modularity and ease of maintenance of the code as it grows larger.\n",
    "\n",
    "Practicaly, it is a תרגיל מחשבתי about identifing patterns in our code and extract these patterns into functions.\n",
    "\n",
    "\n",
    "<h2><div style='text-align: left'><span style=\"color:red\">* * * * * </span></div></h2>\n"
   ]
  },
  {
   "cell_type": "markdown",
   "metadata": {},
   "source": [
    "#### More functions examples"
   ]
  },
  {
   "cell_type": "code",
   "execution_count": null,
   "metadata": {},
   "outputs": [],
   "source": [
    "def my_func(): # no parameters\n",
    "    \"printing examples\"\n",
    "    print(\"*\" * 10)\n",
    "    print('* SHALOM *')\n",
    "    print(\"*\" * 10)\n",
    "    return"
   ]
  },
  {
   "cell_type": "code",
   "execution_count": null,
   "metadata": {},
   "outputs": [],
   "source": [
    "# calling my_func()\n",
    "my_func()\n"
   ]
  },
  {
   "cell_type": "code",
   "execution_count": null,
   "metadata": {},
   "outputs": [],
   "source": [
    "def prod(x, y): \n",
    "    return x * y"
   ]
  },
  {
   "cell_type": "code",
   "execution_count": null,
   "metadata": {},
   "outputs": [],
   "source": [
    "prod(2, 5)"
   ]
  },
  {
   "cell_type": "code",
   "execution_count": null,
   "metadata": {},
   "outputs": [],
   "source": [
    "prod('Iosi', 2)"
   ]
  },
  {
   "cell_type": "code",
   "execution_count": null,
   "metadata": {},
   "outputs": [],
   "source": [
    "def bokerTov(somebody):\n",
    "    print('Boker Tov,', somebody + '!'+\"!\")\n",
    "    print('It\"s realy a great morning'+\"\"\"!\"\"\")\n"
   ]
  },
  {
   "cell_type": "code",
   "execution_count": null,
   "metadata": {},
   "outputs": [],
   "source": [
    "bokerTov(\"Iosi\")"
   ]
  },
  {
   "cell_type": "code",
   "execution_count": null,
   "metadata": {},
   "outputs": [],
   "source": [
    "def print_ing(verb):\n",
    "    print(verb + 'ing')\n",
    "    \n",
    "def return_ing(verb):\n",
    "    return verb + 'ing'\n"
   ]
  },
  {
   "cell_type": "code",
   "execution_count": null,
   "metadata": {},
   "outputs": [],
   "source": [
    "print_ing('eat') # function call"
   ]
  },
  {
   "cell_type": "code",
   "execution_count": null,
   "metadata": {},
   "outputs": [],
   "source": [
    "return_ing('read') # function call"
   ]
  },
  {
   "cell_type": "code",
   "execution_count": null,
   "metadata": {},
   "outputs": [],
   "source": [
    "# using the call in an expression\n",
    "x = return_ing('read') + ', what, ' + \"now\" + '?'  \n",
    "print(x)"
   ]
  },
  {
   "cell_type": "code",
   "execution_count": null,
   "metadata": {},
   "outputs": [],
   "source": [
    "# a \"cooler\" way\n",
    "print(return_ing('play') + ' now , ' + \"why\" + ' ?')"
   ]
  },
  {
   "cell_type": "code",
   "execution_count": null,
   "metadata": {},
   "outputs": [],
   "source": [
    "def fahr2cels(deg):\n",
    "    return ((deg - 32) * (5 / 9))"
   ]
  },
  {
   "cell_type": "code",
   "execution_count": null,
   "metadata": {},
   "outputs": [],
   "source": [
    "f2c = fahr2cels(85) + 12 # function call\n",
    "print(f2c)\n"
   ]
  },
  {
   "cell_type": "code",
   "execution_count": null,
   "metadata": {},
   "outputs": [],
   "source": [
    "# function calls as operands in string expressions\n",
    "def gurgle(sylab):\n",
    "    return (sylab * 5)"
   ]
  },
  {
   "cell_type": "code",
   "execution_count": null,
   "metadata": {},
   "outputs": [],
   "source": [
    "x = \"The toddler just said :\"+ gurgle('ga')\n",
    "y = \"Le voisin dit :\" + gurgle('bla')\n",
    "print(x,y, sep='\\n\\n')\n"
   ]
  },
  {
   "cell_type": "markdown",
   "metadata": {},
   "source": [
    "#### In an abstract way of thinking, we can look at a function too as a special kind of variable: it is a 'name of a value'\n",
    "- because when called (with some input values) it does produce a value \n"
   ]
  },
  {
   "cell_type": "markdown",
   "metadata": {},
   "source": [
    "### Main Ideas in this lecture\n",
    "\n",
    "- basic data/values: numbers, characters\n",
    "\n",
    "- A glimpse of the grand data structures in Python : string, list, tuple. There are more\n",
    "\n",
    "- These structures serve as containers for basic data and other data structures\n",
    "\n",
    "- We mentioned classes, and their objects, and just tasted from OOP ideas.\n",
    "\n",
    "- We saw a small part of Python \"tools\", like the arithmetic and comparison operators, the builtin functions and the functions libraries \n",
    "\n",
    "- We described giving names to the objects, and the variables, the assignment operator, and talked about binding, rebinding and debinding names to/from objects. \n",
    "\n",
    "- The functions which we started to talk about, enable gathering a block of statements for a defined task. \n",
    "\n",
    "- We saw how to define and call functions, and how function calls may participate in expressions as operands\n",
    "\n",
    "##### PS\n",
    "- The name of the `class bool`, was given in honor of the british mathematician George Boole who lived in the 19th century, and created and advanced the Boolean algebra - the branch of algebra in which the values of the variables are the truth values `True` and `False`."
   ]
  },
  {
   "cell_type": "code",
   "execution_count": null,
   "metadata": {},
   "outputs": [],
   "source": []
  }
 ],
 "metadata": {
  "kernelspec": {
   "display_name": "Python 3",
   "language": "python",
   "name": "python3"
  },
  "language_info": {
   "codemirror_mode": {
    "name": "ipython",
    "version": 3
   },
   "file_extension": ".py",
   "mimetype": "text/x-python",
   "name": "python",
   "nbconvert_exporter": "python",
   "pygments_lexer": "ipython3",
   "version": "3.7.4"
  }
 },
 "nbformat": 4,
 "nbformat_minor": 2
}
