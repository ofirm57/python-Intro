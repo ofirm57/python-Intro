{
 "cells": [
  {
   "cell_type": "markdown",
   "metadata": {},
   "source": [
    "<h2><center>Lecture 3.4</center></h2>\n",
    "<h2><center>Errors</center></h2>\n",
    "<h4><center>Introduction to Computer Science</center></h4>\n",
    "<h4><center>Dr. Arie Schlesinger, HUJI, Spring 2020</center></h4>"
   ]
  },
  {
   "cell_type": "markdown",
   "metadata": {},
   "source": [
    "There are (at least) two distinct kinds of errors to whom python is sensitive: `syntax errors` and `exceptions`.<br>\n",
    "\n",
    "Other kinds, like `Logical errors` do not always as a rule trip the system, although they eventually might lead to an error type that does so."
   ]
  },
  {
   "cell_type": "markdown",
   "metadata": {},
   "source": [
    "### Self discovering errors"
   ]
  },
  {
   "cell_type": "markdown",
   "metadata": {},
   "source": [
    "Debugging ideas:\n",
    "- Test data through the program and check the results (tracing).\n",
    "\n",
    "- For functions: write testing programs that run random data through a function and checks the answers.\n",
    "\n",
    "- Place error traps that will print only if an error is discovered (Assertions). \n",
    "\n",
    "But also: correcting a bug in a part of a program can create a failure in another part."
   ]
  },
  {
   "cell_type": "markdown",
   "metadata": {},
   "source": [
    "<h2><center>Syntax errors</center></h2>\n",
    "\n",
    "Syntax errors, are the most common:\n",
    "   "
   ]
  },
  {
   "cell_type": "code",
   "execution_count": null,
   "metadata": {},
   "outputs": [],
   "source": [
    "if -12 print(\"All's good\")\n",
    "             "
   ]
  },
  {
   "cell_type": "markdown",
   "metadata": {},
   "source": [
    "SyntaxError: invalid syntax - since a colon (':') is missing before print(). <br>\n",
    "\n",
    "Python cannot complete the processing of this instruction.\n",
    "\n",
    "The error message points to the place of the error and it mentions:\n",
    " - The File name \n",
    " - The line number \n",
    "\n",
    "and points with the `^` sign, where to look for the error.\n",
    "\n",
    "\n"
   ]
  },
  {
   "cell_type": "markdown",
   "metadata": {},
   "source": [
    "<h2><center>Intro to Exceptions</center></h2>\n",
    "\n",
    "A syntactically correct statement/expression still may cause an error when we try to execute it. \n",
    "\n",
    "Errors detected during execution (runtime errors), are called **exceptions (פסיקות)**.<br>\n",
    "\n",
    "They are not unconditionally fatal, and might be handled in Python programs. \n",
    "\n",
    "Most exceptions are not handled by programs, however, and result in **error messages** as shown here:\n"
   ]
  },
  {
   "cell_type": "code",
   "execution_count": null,
   "metadata": {},
   "outputs": [],
   "source": [
    "2 + (3/0)\n"
   ]
  },
  {
   "cell_type": "code",
   "execution_count": null,
   "metadata": {},
   "outputs": [],
   "source": [
    "-6 - myVar / 12\n"
   ]
  },
  {
   "cell_type": "code",
   "execution_count": null,
   "metadata": {},
   "outputs": [],
   "source": [
    "2 + '4'\n"
   ]
  },
  {
   "cell_type": "code",
   "execution_count": null,
   "metadata": {},
   "outputs": [],
   "source": [
    "# Example 2 from Lecture 3.1\n",
    "def f1(x):\n",
    "    def f2(y):\n",
    "        x = 'Hi'\n",
    "        print('x =', x) \n",
    "        return 2*y*t   # we tinged with an unknown var : t\n",
    "\n",
    "    def f3():\n",
    "        z = x\n",
    "        print('z =', z) \n",
    "\n",
    "    x = x + 1\n",
    "    print('x =', x) \n",
    "    f3()\n",
    "    f2(x)\n",
    "    print('x =', x) \n",
    "    return f2(x+1)\n",
    "\n",
    "x = 3 \n",
    "z = f1(x) \n",
    "print('x =', x) \n",
    "print('z =', z) "
   ]
  },
  {
   "cell_type": "markdown",
   "metadata": {},
   "source": [
    "The first part of the error message shows *the context where the exception happened*, in the form of a stack traceback.\n",
    "\n",
    "The *last line* specifies the problem. \n",
    "\n",
    "Here the names of the built-in exceptions are: \n",
    "\n",
    " - `ZeroDivisionError`, \n",
    " - `NameError`  \n",
    " - `TypeError`. \n",
    "\n",
    "There are also `user-defined exceptions` that might prove useful when debbuging.\n"
   ]
  },
  {
   "cell_type": "markdown",
   "metadata": {},
   "source": [
    "### Intro to Handling Exceptions\n",
    "#### The `try/except` mechanism\n"
   ]
  },
  {
   "cell_type": "code",
   "execution_count": null,
   "metadata": {},
   "outputs": [],
   "source": [
    "\n",
    "while True:\n",
    "    try:\n",
    "        x = int(input(\"Pls enter a number: \"))\n",
    "        break\n",
    "    except ValueError:\n",
    "        print(\"Sorry!  That was no valid number.  Try again...\")\n",
    "\n",
    "print(\"Great , the user entered a number, we'r free !!\")"
   ]
  },
  {
   "cell_type": "markdown",
   "metadata": {},
   "source": [
    " - If **no exception** occurs, the except clause is skipped, the execution of the try statement is finished, and the while ends (break).\n",
    "\n",
    "- If an exception of type `ValueError` **occurs**, it prints the msg, and `whiles` again .\n",
    "\n",
    "\n",
    "- If the exception type is **not** `ValueError`, it is passed on to *outer* try statements; if nothing is found, this is an `unhandled exception`, and execution stops.\n",
    "\n",
    "\n",
    "- A `try statement` may have more than one `except clause`, to specify `handlers` for different exceptions. \n",
    "\n",
    "\n",
    "- At most one handler will be executed. \n",
    "\n",
    "\n",
    "- An except clause may name multiple exceptions as a parenthesized tuple, for example:\n",
    "\n",
    "`except (RuntimeError, TypeError, NameError):\n",
    "     pass\n",
    "`\n",
    "\n"
   ]
  },
  {
   "cell_type": "markdown",
   "metadata": {},
   "source": [
    "### More Examples\n"
   ]
  },
  {
   "cell_type": "code",
   "execution_count": null,
   "metadata": {},
   "outputs": [],
   "source": [
    "from math import sqrt\n",
    "num = int(input(\"Pls enter an integer \"))\n",
    "print(sqrt(num))\n"
   ]
  },
  {
   "cell_type": "code",
   "execution_count": null,
   "metadata": {},
   "outputs": [],
   "source": [
    "# Handling this error\n",
    "try:\n",
    "    print(sqrt(num))\n",
    "except: # any exceptions\n",
    "    print(\"num value is < 0, using abs()\")\n",
    "    print(sqrt(abs(num)))\n",
    "    "
   ]
  },
  {
   "cell_type": "markdown",
   "metadata": {},
   "source": [
    "#### A programmer can raise an exception himself:"
   ]
  },
  {
   "cell_type": "code",
   "execution_count": null,
   "metadata": {},
   "outputs": [],
   "source": [
    "# signaling the error\n",
    "if num < 0 :\n",
    "    raise RuntimeError(\"num should be > 0\") \n",
    "else:\n",
    "    print(sqrt(num))\n"
   ]
  },
  {
   "cell_type": "markdown",
   "metadata": {},
   "source": [
    "\n",
    "<h2><center>Logic errors</center></h2>\n",
    "\n",
    "When the program executes, but gives the wrong result, the error can be:\n",
    " - in the algorithm \n",
    " - in the מימוש of that algorithm. \n",
    "\n",
    "Logic errors can lead to other bad things like: \n",
    " - division by zero \n",
    " - wrong index when accessing a list member\n",
    " \n",
    "which can lead to an **exception**: a runtime error that stops the program.\n",
    "\n",
    "most programming languages have mechanisms that allow programmers to \n",
    "- understand the error  \n",
    "- to use simple first aid procedures that prevent program to stop (like `try/exception`)\n",
    "\n",
    "Programmers can create their `own exceptions` if needed.\n"
   ]
  },
  {
   "cell_type": "markdown",
   "metadata": {},
   "source": [
    "<h2><center>Assertions, debugging aid</center></h2>"
   ]
  },
  {
   "cell_type": "markdown",
   "metadata": {},
   "source": [
    "A problem may occur when a `condition` is supposed to be `True`, but it is not.\n",
    "\n",
    "The `assert statements` are written in the program body, to help detect such problems.\n",
    "\n",
    "Syntax:<br>\n",
    "`assert condition [, \"msg\"]`\n",
    "\n",
    "The program will test the condition, and if `False`, it will trigger an `AssertionError` . <br>\n",
    "\n",
    "This may stop the program, unless a `try/except` mechanism is used.\n",
    "\n",
    "Assertions are a systematic way of debugging programs by checking if conditions are True as supposed to be.\n",
    "\n",
    "Using assertions let developers find the likely root cause of a bug more quickly.\n",
    "\n",
    "Programmers are supposed to know which condition to test. "
   ]
  },
  {
   "cell_type": "code",
   "execution_count": null,
   "metadata": {},
   "outputs": [],
   "source": [
    "assert True\n"
   ]
  },
  {
   "cell_type": "code",
   "execution_count": null,
   "metadata": {},
   "outputs": [],
   "source": [
    "assert False\n"
   ]
  },
  {
   "cell_type": "code",
   "execution_count": null,
   "metadata": {},
   "outputs": [],
   "source": [
    "assert 2 > 5, 'comparison is wrong '\n"
   ]
  },
  {
   "cell_type": "code",
   "execution_count": null,
   "metadata": {},
   "outputs": [],
   "source": [
    "# \"catch\" the exception\n",
    "try:\n",
    "    assert 2 > 5\n",
    "except AssertionError:\n",
    "    print('Bad comparison')\n",
    "\n",
    "print('Bye Now')\n"
   ]
  },
  {
   "cell_type": "code",
   "execution_count": null,
   "metadata": {},
   "outputs": [],
   "source": [
    "num = int(input('Enter a positive number:'))\n",
    "assert num >= 0, 'Only positive numbers are allowed!' # with error message\n",
    "print(\"Done\")\n"
   ]
  },
  {
   "cell_type": "code",
   "execution_count": null,
   "metadata": {},
   "outputs": [],
   "source": [
    "assert 5 > 2\n"
   ]
  },
  {
   "cell_type": "code",
   "execution_count": null,
   "metadata": {},
   "outputs": [],
   "source": [
    "L = []\n",
    "assert (type(L) == tuple), 'L is not a tuple!' # with error message\n"
   ]
  },
  {
   "cell_type": "code",
   "execution_count": null,
   "metadata": {},
   "outputs": [],
   "source": []
  }
 ],
 "metadata": {
  "kernelspec": {
   "display_name": "Python 3",
   "language": "python",
   "name": "python3"
  },
  "language_info": {
   "codemirror_mode": {
    "name": "ipython",
    "version": 3
   },
   "file_extension": ".py",
   "mimetype": "text/x-python",
   "name": "python",
   "nbconvert_exporter": "python",
   "pygments_lexer": "ipython3",
   "version": "3.7.4"
  }
 },
 "nbformat": 4,
 "nbformat_minor": 2
}
