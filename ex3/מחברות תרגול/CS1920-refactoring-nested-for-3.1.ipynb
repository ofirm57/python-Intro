{
 "cells": [
  {
   "cell_type": "markdown",
   "metadata": {},
   "source": [
    "\n",
    "\n",
    "<h2><center>Lecture 3.1</center></h2>\n",
    "<h2><center>Code refactoring ideas, more nested loops</center></h2>\n",
    "<h4><center>Introduction to Computer Science</center></h4>\n",
    "<h4><center>Dr. Arie Schlesinger, HUJI, Spring 2020</center></h4>\n"
   ]
  },
  {
   "cell_type": "markdown",
   "metadata": {},
   "source": [
    "### Size of a function code\n",
    "\n",
    "Keep functions shorter than a page, (easier to grasp),it's hard to keep track of indentation on more pages. <br>\n",
    "The median size of our functions is 15 lines; the mean is 19 lines.<br>\n",
    "\n",
    "*From *Software tools in Pascal*, 1981<br>\n",
    "*by Brian Kernigham and P.J. Plauger - C language creators..:*<br>\n",
    "\n"
   ]
  },
  {
   "cell_type": "markdown",
   "metadata": {},
   "source": [
    "\n",
    "### Example 1: \n",
    "Write a function that returns the first index of a target element in a sequence (say list), if not found return -1 (like the methods find(), index() of sequences). 3 methods: \n",
    "\n",
    "### Method 1"
   ]
  },
  {
   "cell_type": "code",
   "execution_count": null,
   "metadata": {},
   "outputs": [],
   "source": [
    "def indx1(lst, target):  # standard ideas \n",
    "    \"\"\"look for an object (a target) in a container: \n",
    "    use while as the fast car to visit the container members\n",
    "    if not found, return -1\"\"\"\n",
    "    \n",
    "    # do we have an empty list ? return -1\n",
    "    if lst == []:\n",
    "        return -1\n",
    " \n",
    "    # search limits initialization - איתחול גבולות החיפוש\n",
    "    n = 0\n",
    "    length = len(lst)\n",
    "    \n",
    "    # var to hold the index of the target - if found, else value stays -1\n",
    "    found = -1\n",
    "     \n",
    "    # main engine to visit the list\n",
    "    while n != length:    # is n < length different than this condition ?\n",
    "        if lst[n] == target:\n",
    "            found = n\n",
    "            break \n",
    "        n += 1\n",
    "    return found\n",
    "\n"
   ]
  },
  {
   "cell_type": "code",
   "execution_count": null,
   "metadata": {},
   "outputs": [],
   "source": [
    "indx1([2, 1, 55, 33, 44, 777, 11, -2], 10)"
   ]
  },
  {
   "cell_type": "markdown",
   "metadata": {},
   "source": [
    "### Method 2 "
   ]
  },
  {
   "cell_type": "code",
   "execution_count": null,
   "metadata": {},
   "outputs": [],
   "source": [
    "def indx2(lst, target):\n",
    "    \"\"\"Look for target in container lst using for loop\"\"\"\n",
    "    \n",
    "    for n in range(len(lst)):\n",
    "        if lst[n] == target: \n",
    "            return n\n",
    "    return -1"
   ]
  },
  {
   "cell_type": "code",
   "execution_count": null,
   "metadata": {},
   "outputs": [],
   "source": [
    "list(range(0))"
   ]
  },
  {
   "cell_type": "code",
   "execution_count": null,
   "metadata": {},
   "outputs": [],
   "source": [
    "for i in range(len([])):\n",
    "    print('Does it work on empty lists ?')\n",
    "              "
   ]
  },
  {
   "cell_type": "code",
   "execution_count": null,
   "metadata": {},
   "outputs": [],
   "source": [
    "indx2([2, 1, 55, 33, 44, 777, 11, -2], 10)"
   ]
  },
  {
   "cell_type": "markdown",
   "metadata": {},
   "source": [
    "### Method 3 "
   ]
  },
  {
   "cell_type": "code",
   "execution_count": null,
   "metadata": {},
   "outputs": [],
   "source": [
    "[1,2,'a'].index('a')\n"
   ]
  },
  {
   "cell_type": "code",
   "execution_count": null,
   "metadata": {},
   "outputs": [],
   "source": [
    "[1,2,'a'].index('x')"
   ]
  },
  {
   "cell_type": "code",
   "execution_count": null,
   "metadata": {},
   "outputs": [],
   "source": [
    "'x' in [1,2,'a']  # better first use \"in\" to check if obj is in the container"
   ]
  },
  {
   "cell_type": "markdown",
   "metadata": {},
   "source": [
    "`in` works fine for all containers"
   ]
  },
  {
   "cell_type": "code",
   "execution_count": null,
   "metadata": {},
   "outputs": [],
   "source": [
    "# index() raises an exception if target is not found therefore we use a try/except construct\n",
    "# try/except is presented in the other part of the lecture\n",
    "\n",
    "def indx3(lst, target): \n",
    "    try:\n",
    "        return lst.index(target)\n",
    "    except:\n",
    "        return -1"
   ]
  },
  {
   "cell_type": "code",
   "execution_count": null,
   "metadata": {},
   "outputs": [],
   "source": []
  },
  {
   "cell_type": "code",
   "execution_count": null,
   "metadata": {},
   "outputs": [],
   "source": [
    "indx3([2, 1, 55, 33, 44, 777, 11, -2], 11)"
   ]
  },
  {
   "cell_type": "markdown",
   "metadata": {},
   "source": [
    "### Refactoring tips\n",
    "Instead of writing :<br>\n",
    "\n",
    "`if n > 0:\n",
    "    return True\n",
    "else:\n",
    "    return False`\n",
    "    \n",
    "we could write:\n",
    "\n",
    "`return n > 0`"
   ]
  },
  {
   "cell_type": "markdown",
   "metadata": {},
   "source": [
    "### Example 2:\n",
    "Refactor the following code"
   ]
  },
  {
   "cell_type": "code",
   "execution_count": null,
   "metadata": {},
   "outputs": [],
   "source": [
    "if k > 0:\n",
    "    if s in ['X', 'Y', 'Z']:\n",
    "        return True\n",
    "    else:\n",
    "        return False\n",
    "else:\n",
    "    return False"
   ]
  },
  {
   "cell_type": "markdown",
   "metadata": {},
   "source": [
    "### Answer can be one liner:"
   ]
  },
  {
   "cell_type": "code",
   "execution_count": null,
   "metadata": {},
   "outputs": [],
   "source": [
    " return (k > 0) and (s in ['X', 'Y', 'Z'])."
   ]
  },
  {
   "cell_type": "markdown",
   "metadata": {},
   "source": [
    "### DeMorgan’s laws:<br>\n",
    "` not (A and B) == (not A) or (not B) \n",
    " not (A or B) == (not A) and (not B)`\n",
    "\n",
    "But negations are harder to parse than positive statements.\n",
    "\n",
    "Apply DeMorgan’s laws and refactor the following loop body.\n",
    "\n",
    "`for n in range(a):\n",
    "    if not cond or x >= y:\n",
    "       statement(s)`\n",
    "       \n",
    "can be refactored to :\n",
    "\n",
    "`for n in range(a):\n",
    "    if cond and (x < y):\n",
    "        continue\n",
    "    statement(s)`"
   ]
  },
  {
   "cell_type": "markdown",
   "metadata": {},
   "source": [
    "##### Syntax note\n",
    "\n",
    "`if st` with skinny blocks (1 st) like:<br>\n",
    "\n",
    "`\n",
    "if cond : \n",
    "    statement1\n",
    "else: \n",
    "    statement2`\n",
    "\n",
    "can also be written as :<br>\n",
    "\n",
    "`    \n",
    "if cond : statement1\n",
    "else: statement2\n",
    "`"
   ]
  },
  {
   "cell_type": "markdown",
   "metadata": {},
   "source": [
    "### multiple ifs, possible logical error \"traps\"\n",
    "Examples:"
   ]
  },
  {
   "cell_type": "code",
   "execution_count": null,
   "metadata": {},
   "outputs": [],
   "source": [
    "# example 1\n",
    "x = 0\n",
    "if x == 0: \n",
    "    x = 1\n",
    "if x == 1: \n",
    "    x = 2\n",
    "if x == 2: \n",
    "    x = 3\n",
    "print(x) # 3 ?"
   ]
  },
  {
   "cell_type": "markdown",
   "metadata": {},
   "source": [
    "### multiple ifs, with a final else\n",
    "Simple `ifs` are easier to debug than `else ifs`."
   ]
  },
  {
   "cell_type": "code",
   "execution_count": null,
   "metadata": {},
   "outputs": [],
   "source": [
    "# example 2\n",
    "x = 0\n",
    "if x == 0: \n",
    "    x = 1\n",
    "if x == 2: \n",
    "    x = 3\n",
    "else: \n",
    "    x = 4\n",
    "print(x) # 4?\n"
   ]
  },
  {
   "cell_type": "markdown",
   "metadata": {},
   "source": [
    "#### Improve by using ` returns`, `breaks`, and `continues`  ( ׳שמפריעים׳ לזרימה הרגילה) can make code easier to debug."
   ]
  },
  {
   "cell_type": "code",
   "execution_count": null,
   "metadata": {},
   "outputs": [],
   "source": [
    "# return: just \"leave the function scene\"\n",
    "def x_changer(x):\n",
    "    if x == 0:\n",
    "        return 1\n",
    "    if x == 1:\n",
    "        return 2\n",
    "    if x == 2:\n",
    "        return 3\n",
    "    "
   ]
  },
  {
   "cell_type": "code",
   "execution_count": null,
   "metadata": {},
   "outputs": [],
   "source": [
    "# creative  but needs \"protection\" against out-of-range values of x\n",
    "def x_changer(x):\n",
    "     return [1, 2, 3][x]"
   ]
  },
  {
   "cell_type": "code",
   "execution_count": null,
   "metadata": {},
   "outputs": [],
   "source": [
    "x_changer(2)"
   ]
  },
  {
   "cell_type": "markdown",
   "metadata": {},
   "source": [
    "#### Another `if` refactor"
   ]
  },
  {
   "cell_type": "markdown",
   "metadata": {},
   "source": [
    "#### What about refactoring this  `if` spaghetti ?"
   ]
  },
  {
   "cell_type": "code",
   "execution_count": null,
   "metadata": {},
   "outputs": [],
   "source": [
    "x = 1\n",
    "y = 1\n",
    "z = 0\n",
    "\n",
    "if x == 1:\n",
    "    if y == 1:\n",
    "        if z == 1:\n",
    "            print ('xyz')\n",
    "        else:\n",
    "            print ('xy.')\n",
    "    else:\n",
    "        if z == 1:\n",
    "            print('x.z')\n",
    "        else:\n",
    "            print('x..')\n",
    "\n",
    "else:\n",
    "    if y == 1:\n",
    "        if z == 1:\n",
    "            print ('.yz')\n",
    "        else:\n",
    "            print('.y.')\n",
    "    else:\n",
    "        if z == 1:\n",
    "            print('..z')\n",
    "        else:\n",
    "            print (\"...\")"
   ]
  },
  {
   "cell_type": "markdown",
   "metadata": {},
   "source": [
    "#### First try - 8 consecutive if's "
   ]
  },
  {
   "cell_type": "code",
   "execution_count": null,
   "metadata": {},
   "outputs": [],
   "source": [
    "x = 1\n",
    "y = 1\n",
    "z = 0\n",
    "if x == 1 and y == 1 and z == 1: print('xyz')\n",
    "if x == 1 and y == 1 and z == 0: print('xy.')\n",
    "if x == 1 and y == 0 and z == 1: print('x.z')\n",
    "if x == 0 and y == 1 and z == 1: print('.yz')\n",
    "if x == 0 and y == 0 and z == 1: print('..z')\n",
    "if x == 0 and y == 1 and z == 0: print('.y.')\n",
    "if x == 1 and y == 0 and z == 0: print('x..')\n",
    "if x == 0 and y == 0 and z == 0: print('...')\n"
   ]
  },
  {
   "cell_type": "markdown",
   "metadata": {},
   "source": [
    "#### Second try  - still 8 but simpler, using tuples equality op\n",
    "and remember that `(x, y, z) == (1, 1, 1)` checks values equality <br>\n",
    "and `(x, y, z) is (1, 1, 1)` checks addresses equality."
   ]
  },
  {
   "cell_type": "code",
   "execution_count": null,
   "metadata": {},
   "outputs": [],
   "source": [
    "    if (x, y, z) == (1, 1, 1): print('xyz')\n",
    "    if (x, y, z) == (1, 1, 0): print('xy.')\n",
    "    if (x, y, z) == (1, 0, 1): print('x.z')\n",
    "    if (x, y, z) == (1, 0, 0): print('x..')\n",
    "    if (x, y, z) == (0, 1, 1): print('.yz')\n",
    "    if (x, y, z) == (0, 1, 0): print('.y.')\n",
    "    if (x, y, z) == (0, 0, 1): print('..z')\n",
    "    if (x, y, z) == (0, 0, 0): print('...')\n"
   ]
  },
  {
   "cell_type": "markdown",
   "metadata": {},
   "source": [
    "Could we use lists instead of tuples ? "
   ]
  },
  {
   "cell_type": "code",
   "execution_count": null,
   "metadata": {},
   "outputs": [],
   "source": [
    "x = y = z = 1\n",
    "if [x, y, z] == [1, 1, 1]: print('We accept lists too')\n"
   ]
  },
  {
   "cell_type": "markdown",
   "metadata": {},
   "source": [
    "### In the same spirit : more unpacking magic by the `for loop`  - the iterables Maestro : "
   ]
  },
  {
   "cell_type": "code",
   "execution_count": null,
   "metadata": {},
   "outputs": [],
   "source": [
    "# Only if every object in the container can be unpacked in 2\n",
    "for a,b,c in (\"Hyi\",\"Bye\"):\n",
    "    print(a,b,c)"
   ]
  },
  {
   "cell_type": "code",
   "execution_count": null,
   "metadata": {},
   "outputs": [],
   "source": [
    "for a,b in (-1, 34):\n",
    "    print(a,b)"
   ]
  },
  {
   "cell_type": "code",
   "execution_count": null,
   "metadata": {},
   "outputs": [],
   "source": [
    "# this will not work as maybe some expect\n",
    "for a,b in \"Hi By\":\n",
    "    print(a,b)"
   ]
  },
  {
   "cell_type": "code",
   "execution_count": null,
   "metadata": {},
   "outputs": [],
   "source": [
    "# But this will\n",
    "for a,b in \"hI bY\".split():\n",
    "    print(a,b)"
   ]
  },
  {
   "cell_type": "code",
   "execution_count": null,
   "metadata": {},
   "outputs": [],
   "source": [
    "# each member of the iterable has 3 elements\n",
    "for i, j, k in ['xyz', [111, [123], (3.14,'x')], ('Avi', (((),),), (-1,))] :\n",
    "    print(i, j, k)"
   ]
  },
  {
   "cell_type": "markdown",
   "metadata": {},
   "source": [
    "<h2><center>Loops and nested Loops</center></h2>"
   ]
  },
  {
   "cell_type": "markdown",
   "metadata": {},
   "source": [
    "### Nested loops"
   ]
  },
  {
   "cell_type": "markdown",
   "metadata": {},
   "source": [
    "`\n",
    "for var1 in iterable1:\n",
    "   for var2 in iterable2:\n",
    "      statements(s)\n",
    "   statements(s)\n",
    "`"
   ]
  },
  {
   "cell_type": "markdown",
   "metadata": {},
   "source": [
    "`\n",
    "while cond1:\n",
    "   while cond2:\n",
    "      statement(s)\n",
    "   statement(s)\n",
    "`"
   ]
  },
  {
   "cell_type": "markdown",
   "metadata": {},
   "source": [
    "Example:"
   ]
  },
  {
   "cell_type": "code",
   "execution_count": null,
   "metadata": {},
   "outputs": [],
   "source": [
    "lst_of_words = ['humus', 'pita', 'salad', 'yogurt']\n",
    "lst_of_letters = [ ]\n",
    "for word in lst_of_words:\n",
    "    for let in word:\n",
    "        lst_of_letters.append(let)\n",
    "print(lst_of_letters)\n"
   ]
  },
  {
   "cell_type": "markdown",
   "metadata": {},
   "source": [
    "##### Exercise:\n",
    "Modify the code so that the list would contains a single copy of each letter."
   ]
  },
  {
   "cell_type": "markdown",
   "metadata": {},
   "source": [
    "#### Addressing inner objects within inner objects"
   ]
  },
  {
   "cell_type": "code",
   "execution_count": null,
   "metadata": {},
   "outputs": [],
   "source": [
    "L = [[1, 2], ['a', 'b']]\n",
    "print(L[1])\n",
    "print(L[0][1])\n"
   ]
  },
  {
   "cell_type": "code",
   "execution_count": null,
   "metadata": {},
   "outputs": [],
   "source": [
    "L[1][0] = 'Python'\n",
    "print(L)"
   ]
  },
  {
   "cell_type": "code",
   "execution_count": null,
   "metadata": {},
   "outputs": [],
   "source": [
    "del L[1][0]\n",
    "print(L)"
   ]
  },
  {
   "cell_type": "markdown",
   "metadata": {},
   "source": [
    "Small changes in code  - examples"
   ]
  },
  {
   "cell_type": "code",
   "execution_count": null,
   "metadata": {},
   "outputs": [],
   "source": [
    "# version 1\n",
    "lst = [[1, 2, 3], [4, 5, 6], [7, 8, 9]]\n",
    "f = 1\n",
    "print(lst)\n",
    "for i in range(0, 3):\n",
    "    f *= 10\n",
    "    for j in range(0, 3):\n",
    "        lst[i][j] *= f\n",
    "print(lst)\n"
   ]
  },
  {
   "cell_type": "code",
   "execution_count": null,
   "metadata": {},
   "outputs": [],
   "source": [
    "# version 2\n",
    "lst1 = [[1, 2, 3], [4, 5, 6], [7, 8, 9]]\n",
    "f = 1\n",
    "print(lst1)\n",
    "for i in range(0, 3):\n",
    "    f *= 10\n",
    "    for j in range(0, 3):\n",
    "        lst1[i][j] *= f\n",
    "        if lst1[i][j] >= 400:\n",
    "            break\n",
    "print(lst1)\n"
   ]
  },
  {
   "cell_type": "code",
   "execution_count": null,
   "metadata": {},
   "outputs": [],
   "source": [
    "# version 3\n",
    "lst2 = [[1, 2, 3], [4, 5, 6], [7, 8, 9]]\n",
    "f = 1\n",
    "print(lst2)\n",
    "for i in range(0, 3):\n",
    "    f *= 10\n",
    "    for j in range(0, 3):\n",
    "        lst2[i][j] *= f\n",
    "    if lst2[i][j] >= 400:\n",
    "        break\n",
    "print(lst2)\n"
   ]
  },
  {
   "cell_type": "markdown",
   "metadata": {},
   "source": [
    "\n",
    "\n",
    "\n",
    "### Nested while loops: finding the prime numbers between two numbers: "
   ]
  },
  {
   "cell_type": "code",
   "execution_count": null,
   "metadata": {},
   "outputs": [],
   "source": [
    "# find primes between i < k\n",
    "i = int(input(\"Pls enter the lower int > 1 : \"))\n",
    "k = int(input(\"Pls enter the upper int: \"))\n",
    "while(i < k):\n",
    "    j = 2\n",
    "    while(j <= (i / j)):\n",
    "        if not(i % j): break\n",
    "        j = j + 1\n",
    "    if (j > i / j) : print( i, \" is prime\")\n",
    "    i = i + 1\n",
    "\n",
    "print(\"Done\")"
   ]
  },
  {
   "cell_type": "markdown",
   "metadata": {},
   "source": [
    "\n",
    "\n",
    "### A family of nested Loops: \n",
    "#### printing  \"right triangle\" of stars /numbers"
   ]
  },
  {
   "cell_type": "code",
   "execution_count": null,
   "metadata": {},
   "outputs": [],
   "source": [
    "str(78) # strings from numbers \n"
   ]
  },
  {
   "cell_type": "code",
   "execution_count": null,
   "metadata": {},
   "outputs": [],
   "source": [
    "# or from anything..\n",
    "str([1,2])\n"
   ]
  },
  {
   "cell_type": "code",
   "execution_count": null,
   "metadata": {},
   "outputs": [],
   "source": [
    "str([1,2])[3]"
   ]
  },
  {
   "cell_type": "code",
   "execution_count": null,
   "metadata": {},
   "outputs": [],
   "source": [
    "# not nested and not numbers\n",
    "n = 4\n",
    "for i in range(n):\n",
    "    print('*' * (i + 1))\n",
    "    "
   ]
  },
  {
   "cell_type": "code",
   "execution_count": null,
   "metadata": {},
   "outputs": [],
   "source": [
    "# using str()\n",
    "for i in range(10):\n",
    "    print(str(i) * i)\n",
    "    "
   ]
  },
  {
   "cell_type": "code",
   "execution_count": null,
   "metadata": {},
   "outputs": [],
   "source": [
    "# using int() to cast float result\n",
    "n = 10\n",
    "for i in range(1, n):\n",
    "    print (int(i * ((10 ** i) -1) / 9))\n",
    "    "
   ]
  },
  {
   "cell_type": "markdown",
   "metadata": {},
   "source": [
    "#### one liner - the same effect with list comprehension construct...later"
   ]
  },
  {
   "cell_type": "code",
   "execution_count": null,
   "metadata": {
    "scrolled": true
   },
   "outputs": [],
   "source": [
    "print ('\\n'.join([str(i) * i for i in range(1, 10)]))\n"
   ]
  },
  {
   "cell_type": "code",
   "execution_count": null,
   "metadata": {},
   "outputs": [],
   "source": [
    "# with nested for\n",
    "# each row has one repeated digit \n",
    "for i in range(1, 10):\n",
    "    for j in range(i):\n",
    "        print(i, end = '')\n",
    "    print()\n",
    "    "
   ]
  },
  {
   "cell_type": "code",
   "execution_count": null,
   "metadata": {},
   "outputs": [],
   "source": [
    "# simple variant of the previous code\n",
    "count = 1\n",
    "for i in range(9):\n",
    "    for j in range (-1, i):\n",
    "        print (count, end = '')\n",
    "    count = count + 1\n",
    "    print (\" \")\n",
    "    "
   ]
  },
  {
   "cell_type": "code",
   "execution_count": null,
   "metadata": {},
   "outputs": [],
   "source": [
    "# another variant\n",
    "count = 0\n",
    "for i in range(10):\n",
    "    for j in range(0, i):\n",
    "        print (count, end = '')\n",
    "    count +=1\n",
    "    print()\n",
    "    "
   ]
  },
  {
   "cell_type": "code",
   "execution_count": null,
   "metadata": {},
   "outputs": [],
   "source": [
    "# \"smarter\": each new row starts the same and \"grows\" : 123...\n",
    "n = int(input(\"Pls enter an int: \"))\n",
    "for i in range(1, n + 1):\n",
    "    for j in range(1, i + 1):\n",
    "        print (j, end = '')\n",
    "    print()\n",
    "    "
   ]
  },
  {
   "cell_type": "markdown",
   "metadata": {},
   "source": [
    "#### The same effect with list comprehension construct...late"
   ]
  },
  {
   "cell_type": "code",
   "execution_count": null,
   "metadata": {},
   "outputs": [],
   "source": [
    "n = 9\n",
    "print ('\\n'.join(''.join([str(i) for i in range(1, j + 1)]) for j in range(1, n + 1)))\n"
   ]
  },
  {
   "cell_type": "code",
   "execution_count": null,
   "metadata": {},
   "outputs": [],
   "source": [
    "# one more chalenge: stream the numbers 1-45  in triangular ordered rows.\n",
    "# to make rows look symmetrically arranged, put a blanc in end = ''   \n",
    "\n",
    "count = 1\n",
    "for i in range(10):\n",
    "    for j in range(0, i):\n",
    "        print(count, end = '')\n",
    "        count += 1\n",
    "    print()\n"
   ]
  },
  {
   "cell_type": "markdown",
   "metadata": {},
   "source": [
    "<h2><center>Nested Scopes and nested functions</center></h2>\n",
    "\n",
    "A variable’s scope: the area of a program where a variable can be used in. <br>\n",
    "\n",
    "The scope of a `local variable` starts from the line where it was defined, to the end of the function.\n",
    "\n",
    "\n",
    "A `def` statement within a function body defines a `nested function`. <br>\n",
    "\n",
    "The function that includes the `def` is called an `outer function` to the nested one. <br>\n",
    "\n",
    "Code in a nested function can not rebind local variables of an outer function (unless using `global` which is bad programming), but can access/use them in expressions....\n"
   ]
  },
  {
   "cell_type": "code",
   "execution_count": null,
   "metadata": {},
   "outputs": [],
   "source": [
    "# Example 1\n",
    "def f(x,y): \n",
    "    \"\"\"Calculate Percentages from the total\"\"\"\n",
    "    def g(k):\n",
    "        return (k * 100.0) / (x + y) \n",
    "    print('The results are:', g(x), g(y))\n"
   ]
  },
  {
   "cell_type": "code",
   "execution_count": null,
   "metadata": {},
   "outputs": [],
   "source": [
    "f(23,137)"
   ]
  },
  {
   "cell_type": "code",
   "execution_count": null,
   "metadata": {},
   "outputs": [],
   "source": [
    "# Example 2\n",
    "def f1(x):\n",
    "    def f2(y):\n",
    "        x = 'Hi'\n",
    "        print('x =', x) \n",
    "        return 2*y\n",
    "\n",
    "    def f3():\n",
    "        z = x\n",
    "        print('z =', z) \n",
    "\n",
    "    x = x + 1\n",
    "    print('x =', x) \n",
    "    f3()\n",
    "    f2(x)\n",
    "    print('x =', x) \n",
    "    return f2(x+1)\n",
    "\n",
    "x = 3 \n",
    "z = f1(x) \n",
    "print('x =', x) \n",
    "print('z =', z) \n"
   ]
  },
  {
   "cell_type": "markdown",
   "metadata": {},
   "source": [
    "<h2><center>More ways to Fibonacci</center></h2>"
   ]
  },
  {
   "cell_type": "markdown",
   "metadata": {},
   "source": [
    "### The Golden Ratio -  על יחס הזהב\n",
    "\n",
    "### Two numbers, a,b (a > b > 0) are in the golden ratio if  $\\frac{a+b}{a}=\\frac{a}{b}$ . The value of this ratio is : $\\frac{1+\\sqrt{5}}{2}$\n",
    "\n"
   ]
  },
  {
   "cell_type": "markdown",
   "metadata": {},
   "source": [
    "## Binet formula for the n-th Fibonacci number:\n",
    "(Binet,1843)\n",
    "\n",
    "#### Binet formula uses the golden ration :"
   ]
  },
  {
   "attachments": {
    "Binet.png": {
     "image/png": "[encoded data removed]"
    }
   },
   "cell_type": "markdown",
   "metadata": {},
   "source": [
    "\n",
    "\n",
    "\n",
    "![Binet.png](attachment:Binet.png)"
   ]
  },
  {
   "cell_type": "markdown",
   "metadata": {},
   "source": [
    "No series needed to get i-th element, so no initial or mid-way values needed to start the series going"
   ]
  },
  {
   "cell_type": "code",
   "execution_count": null,
   "metadata": {},
   "outputs": [],
   "source": [
    "# implementation:\n",
    "from math import sqrt\n",
    "def binet_fibo(num): \n",
    "    root_5 = sqrt(5)\n",
    "    x = (1 + root_5) / 2\n",
    "    y = (1 - root_5) / 2\n",
    "    return round(( x ** num - y ** num ) / root_5) \n"
   ]
  },
  {
   "cell_type": "code",
   "execution_count": null,
   "metadata": {},
   "outputs": [],
   "source": [
    "binet_fibo(8)\n"
   ]
  },
  {
   "cell_type": "markdown",
   "metadata": {},
   "source": [
    "### Q Matrix\n",
    "Another very interesting way to create fibonacci numbers"
   ]
  },
  {
   "attachments": {
    "q_mat.png": {
     "image/png": "[encoded data removed]"
    }
   },
   "cell_type": "markdown",
   "metadata": {},
   "source": [
    "![q_mat.png](attachment:q_mat.png)"
   ]
  },
  {
   "cell_type": "markdown",
   "metadata": {},
   "source": [
    "Can you implement this ? <br>\n",
    "There are some very nice economy bonuses attached here (not from the intro course), like to get to fibonaci_23 and its index neighbours ( $A^{23}$ ), is enough to calculate these:<br>\n",
    "\n",
    "$A^{23}$ = $A^{16}$ * $A^{4}$ * $A^{2}$ * $A^{1}$ which come as a power of 2 series. <br>\n",
    "\n",
    "`(Matrix world is a wonder world by itself)`.\n"
   ]
  },
  {
   "cell_type": "markdown",
   "metadata": {},
   "source": [
    "### Measuring time\n",
    "\n",
    "from time import time<br>\n",
    "....<br>\n",
    "start = time()<br>\n",
    "....<br>\n",
    "stop = time()<br>\n",
    ".....<br>\n",
    "print('time =', round(stop-start, 2), 'seconds.') , <br>\n",
    "\n",
    "or without rounding the time"
   ]
  },
  {
   "cell_type": "code",
   "execution_count": null,
   "metadata": {},
   "outputs": [],
   "source": [
    "from math import sqrt\n",
    "def binet_fibo(num): \n",
    "    root_5 = sqrt(5)\n",
    "    x = (1 + root_5) / 2\n",
    "    y = (1 - root_5) / 2\n",
    "    return round(( x ** num - y ** num ) / root_5) \n"
   ]
  },
  {
   "cell_type": "code",
   "execution_count": null,
   "metadata": {},
   "outputs": [],
   "source": [
    "# with the timer:\n",
    "from time import time, gmtime\n",
    "start = time()\n",
    "binet_fibo(1022)\n",
    "stop = time()\n",
    "print('time =', stop-start, 'seconds.')\n"
   ]
  },
  {
   "cell_type": "code",
   "execution_count": null,
   "metadata": {},
   "outputs": [],
   "source": [
    "print(gmtime(0))"
   ]
  },
  {
   "cell_type": "code",
   "execution_count": null,
   "metadata": {},
   "outputs": [],
   "source": [
    "print(time())\n",
    "print(time())\n",
    "print(time())\n",
    "print(time())\n",
    "print(time())\n",
    "print(time())"
   ]
  },
  {
   "cell_type": "code",
   "execution_count": null,
   "metadata": {},
   "outputs": [],
   "source": [
    "help(gmtime)\n"
   ]
  },
  {
   "cell_type": "markdown",
   "metadata": {},
   "source": [
    "<h2><center>Additional code examples with loops</center></h2>\n"
   ]
  },
  {
   "cell_type": "markdown",
   "metadata": {},
   "source": [
    "##### Square root approximation by Newton-Raphson method "
   ]
  },
  {
   "cell_type": "code",
   "execution_count": null,
   "metadata": {},
   "outputs": [],
   "source": [
    "# find the sqrt of a given pos number by Newton-Raphson method \n",
    "# Find x such that abs(x**2 - k) is less than a predefined eps\n",
    "\n",
    "k = eval(input('Pls enter a positive number: '))\n",
    "eps = 0.015    # the accuracy 'constant'\n",
    "guess = k / 2.0\n",
    "\n",
    "while abs(guess * guess - k) >= eps:\n",
    "    print('old',guess)\n",
    "    guess = guess - (((guess ** 2) - k) / (2 * guess)) \n",
    "    print('new',guess)\n",
    "    print()\n",
    "\n",
    "print(guess, 'is close to the sqrt of', k, ', done using eps =', eps)\n"
   ]
  },
  {
   "cell_type": "code",
   "execution_count": null,
   "metadata": {},
   "outputs": [],
   "source": [
    "sqrt(12345678)"
   ]
  },
  {
   "cell_type": "markdown",
   "metadata": {},
   "source": [
    "##### Square root approximation using the `bisection search` method"
   ]
  },
  {
   "cell_type": "code",
   "execution_count": null,
   "metadata": {},
   "outputs": [],
   "source": [
    "x = eval(input('Pls enter a number: '))\n",
    "\n",
    "eps = 0.000000015  # the accuracy 'constant'\n",
    "countGuess = 0\n",
    "upper = max(1, x) # upper limit of range\n",
    "lower = 0.0            # lower limit of range\n",
    "mid = (upper + lower) / 2 # middle of range\n",
    "\n",
    "while abs(mid ** 2 - x) >= eps: \n",
    "    print(\"iteration:\", countGuess)\n",
    "    print('lower:',lower,', mid:',mid,', upper',upper)\n",
    "   \n",
    "    if mid ** 2 < x:\n",
    "        lower = mid\n",
    "    else:\n",
    "        upper = mid\n",
    "    mid = (upper + lower) / 2\n",
    "    \n",
    "    print('lower:',lower,', mid:',mid,', upper',upper)\n",
    "    print()\n",
    "    \n",
    "    countGuess += 1\n",
    "    \n",
    "print('There were', countGuess, 'iterations') \n",
    "print('The sqrt of', x, 'is about', mid,', done using eps =', eps )\n"
   ]
  },
  {
   "cell_type": "code",
   "execution_count": null,
   "metadata": {},
   "outputs": [],
   "source": [
    "from math import sqrt\n",
    "sqrt(x)"
   ]
  },
  {
   "cell_type": "markdown",
   "metadata": {},
   "source": [
    "##### Matrix multiplication example:"
   ]
  },
  {
   "cell_type": "code",
   "execution_count": null,
   "metadata": {},
   "outputs": [],
   "source": [
    "# inner list in a,b,c represent columns\n",
    "a = [[1, 0, 0], [0, 1, 0], [0, 0, 1] ]  # identity matrix 3x3\n",
    "b = [[1, 2, 3], [4, 5, 6], [7, 8, 9] ]  \n",
    "c = []\n",
    " \n",
    "for irow in range (3):\n",
    "    c.append ([])          # append inner empty lst\n",
    "    for icol in range (3):\n",
    "        c[irow].append (0) # c is initialized with zeros\n",
    "        for k in range (3):\n",
    "            c[irow][icol] += a[irow][k] * b[icol][k] # the multiplications & additions are done here\n",
    "print (c)\n"
   ]
  }
 ],
 "metadata": {
  "kernelspec": {
   "display_name": "Python 3",
   "language": "python",
   "name": "python3"
  },
  "language_info": {
   "codemirror_mode": {
    "name": "ipython",
    "version": 3
   },
   "file_extension": ".py",
   "mimetype": "text/x-python",
   "name": "python",
   "nbconvert_exporter": "python",
   "pygments_lexer": "ipython3",
   "version": "3.7.4"
  }
 },
 "nbformat": 4,
 "nbformat_minor": 2
}
