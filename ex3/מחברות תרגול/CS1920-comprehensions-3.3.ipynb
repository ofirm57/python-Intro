{
 "cells": [
  {
   "cell_type": "markdown",
   "metadata": {},
   "source": [
    "<h1><center>Lecture 3.3</center></h1>\n",
    "<h2><center>Comprehensions</center></h2>\n",
    "<h3><center>Introduction to Computer Science</center></h3>\n",
    "<h3><center>Dr. Arie Schlesinger, Huji, Spring 2020</center></h3>\n",
    "\n",
    "\n",
    "`List comprehensions` provide a concise way to **create lists.**<br>\n",
    "\n",
    "Common applications :<br>\n",
    "- to make new lists where each element is the result of some\n",
    "operations applied to each member of another sequence or iterable, or\n",
    "- to create a subsequence of those elements that satisfy a\n",
    "certain condition, or (more) conditions.\n",
    "\n",
    "Example, create a list of 10 squares (the \"old\" way):"
   ]
  },
  {
   "cell_type": "code",
   "execution_count": null,
   "metadata": {},
   "outputs": [],
   "source": [
    "squares = []\n",
    "for x in range(10):\n",
    "    squares.append(x ** 2)\n",
    "\n",
    "print('A list of the squares of 0-9 :', squares)\n"
   ]
  },
  {
   "cell_type": "markdown",
   "metadata": {},
   "source": [
    "##### Now let's create the same result with list comprehension:"
   ]
  },
  {
   "cell_type": "code",
   "execution_count": null,
   "metadata": {},
   "outputs": [],
   "source": [
    "squares1 = [x ** 2 for x in range(10)]\n",
    "print('A list of the squares of 0-9 :', squares1)\n"
   ]
  },
  {
   "cell_type": "markdown",
   "metadata": {},
   "source": [
    "#### A list comprehension consists of :\n",
    "- brackets containing an expression followed by a `for` clause,\n",
    "- then zero or more `for`, or `if` clauses.\n",
    "\n",
    "The result will be a **new list** resulting from evaluating the\n",
    "expression in the context of the `for` and `if` clauses which\n",
    "follow it.<br>\n",
    "For example, this `list comprehension` combines the elements of two lists\n",
    "if they *are not equal* :"
   ]
  },
  {
   "cell_type": "code",
   "execution_count": null,
   "metadata": {},
   "outputs": [],
   "source": [
    "Lc = [(x, y) for x in [1, 2, 3] for y in [3, 1, 4] if x != y]\n",
    "print('Lc :', Lc)\n"
   ]
  },
  {
   "cell_type": "markdown",
   "metadata": {},
   "source": [
    "##### The new list Lc is equivalent to the list created by these 2 nested `for` loops:"
   ]
  },
  {
   "cell_type": "code",
   "execution_count": null,
   "metadata": {},
   "outputs": [],
   "source": [
    "lst = []\n",
    "for x in [1, 2, 3]:\n",
    "    for y in [3, 1, 4]:\n",
    "        if x != y:\n",
    "            lst.append((x, y))\n",
    "            \n",
    "print('lst :', lst) "
   ]
  },
  {
   "cell_type": "markdown",
   "metadata": {},
   "source": [
    "##### The order of the `for` and `if` statements is the same in both these examples.<br>\n",
    "If the expression is a `tuple` (e.g. the (x, y) in the previous\n",
    "example), it must be *parenthesized.*\n",
    "\n",
    "Examples:"
   ]
  },
  {
   "cell_type": "markdown",
   "metadata": {},
   "source": [
    "##### create a new list with the values doubled"
   ]
  },
  {
   "cell_type": "code",
   "execution_count": null,
   "metadata": {},
   "outputs": [],
   "source": [
    "vec = [-4, -2, 0, 2, 4]\n",
    "Lc1 = [x * 2 for x in vec]\n",
    "print('Lc1 :', Lc1)\n"
   ]
  },
  {
   "cell_type": "markdown",
   "metadata": {},
   "source": [
    "##### filter the list to exclude negative numbers\n"
   ]
  },
  {
   "cell_type": "code",
   "execution_count": null,
   "metadata": {},
   "outputs": [],
   "source": [
    "Lc2 = [x for x in vec if x >= 0] # [0, 2, 4]\n",
    "print('Lc2 :', Lc2)\n"
   ]
  },
  {
   "cell_type": "markdown",
   "metadata": {},
   "source": [
    "##### apply a function to each element of vec\n"
   ]
  },
  {
   "cell_type": "code",
   "execution_count": null,
   "metadata": {},
   "outputs": [],
   "source": [
    "Lc3 = [abs(x) for x in vec] # [4, 2, 0, 2, 4]\n",
    "print('Lc3 :', Lc3)\n"
   ]
  },
  {
   "cell_type": "markdown",
   "metadata": {},
   "source": [
    "##### string method `strip()`, removes all `leading` and `trailing` blancs around the non-blanc string\n",
    "#### call a method on each element\n"
   ]
  },
  {
   "cell_type": "code",
   "execution_count": null,
   "metadata": {},
   "outputs": [],
   "source": [
    "\n",
    "fruits = ['    Banana', ' Raspberry    ', '   Blue ananas    ']\n",
    "Lc4 = [x.strip() for x in fruits]\n",
    "print('Lc4 :', Lc4)\n",
    "\n",
    "\n"
   ]
  },
  {
   "cell_type": "markdown",
   "metadata": {},
   "source": [
    "##### create a list of 2-tuples like (number, its_square)"
   ]
  },
  {
   "cell_type": "code",
   "execution_count": null,
   "metadata": {},
   "outputs": [],
   "source": [
    "Lc5 = [(x, x ** 2) for x in range(6)] # [(0, 0), (1, 1), (2, 4), (3, 9), (4, 16), (5, 25)]\n",
    "print('Lc5 :', Lc5)\n"
   ]
  },
  {
   "cell_type": "markdown",
   "metadata": {},
   "source": [
    "##### If the expression is a tuple, it must be **parenthesized**, otherwise an error is raised"
   ]
  },
  {
   "cell_type": "code",
   "execution_count": null,
   "metadata": {},
   "outputs": [],
   "source": [
    "# here the expression is meant to be a tuple but it is not written as such:\n",
    "Lc6 = [x, x ** 2 for x in range(6)] # SyntaxError: invalid syntax\n",
    "print('Lc6:', Lc6)\n"
   ]
  },
  {
   "cell_type": "markdown",
   "metadata": {},
   "source": [
    "##### Example : 'flatten' a list using a list comprehension with two 'for' statements"
   ]
  },
  {
   "cell_type": "code",
   "execution_count": null,
   "metadata": {},
   "outputs": [],
   "source": [
    "vec = [[1, 2, 3], [4, 5, 6], [7, 8, 9]]\n",
    "\n",
    "Lc7 = [x for elem in vec for x in elem] \n",
    "print('Lc7', Lc7)\n"
   ]
  },
  {
   "cell_type": "markdown",
   "metadata": {},
   "source": [
    "##### List comprehensions can contain more *complex expressions*, and *nested  functions* :"
   ]
  },
  {
   "cell_type": "code",
   "execution_count": null,
   "metadata": {},
   "outputs": [],
   "source": [
    "from math import pi\n",
    "Lc8 = [str(round(pi, i)) for i in range(1, 11)] # ['3.1', '3.14', '3.142', '3.1416', '3.14159']\n",
    "print('Lc8 :', Lc8)\n"
   ]
  },
  {
   "cell_type": "markdown",
   "metadata": {},
   "source": [
    "<h2><center>Set Comprehensions</center></h2>\n",
    "\n",
    "Based on the same techniques of `list comprehensions`, we can also create `set and dict comprehensions` <br>\n",
    "Of course the elements of such sets, and the keys of such dictionaries must be `Hashable`\n",
    "\n",
    "Examples - the results are sets, but what about the \"order\" ? :"
   ]
  },
  {
   "cell_type": "code",
   "execution_count": null,
   "metadata": {},
   "outputs": [],
   "source": [
    "ST = {x*2 for x in 'abracadabra'}\n",
    "print('ST =', ST)\n"
   ]
  },
  {
   "cell_type": "code",
   "execution_count": null,
   "metadata": {},
   "outputs": [],
   "source": [
    "ST1 = {(x + y, y - 1) for x in range(3) for y in range(2) if x != y}\n",
    "print('ST1 =', ST1) # {(3, 0), (1, 0), (2, -1), (1, -1)}\n"
   ]
  },
  {
   "cell_type": "code",
   "execution_count": null,
   "metadata": {},
   "outputs": [],
   "source": [
    "ST2 = {x + y for x in 'iosi' for y in 'moshe' }\n",
    "print('ST2 =', ST2) \n"
   ]
  },
  {
   "cell_type": "markdown",
   "metadata": {},
   "source": [
    "<h2><center>Dictionary Comprehensions</center></h2>\n",
    "\n",
    "### How ?\n",
    " - Use enclosing braces,  \n",
    " - Separate the pair by a colon, \n",
    " - The \"raw materials\" come in a container, packed as 2 elements inner containers, (here tuples, but any other 2 seater container will do). \n",
    " - Must: 1st element of the 2 seater is hashable (to become a key).\n",
    " - The result is a dictionary  - Example :"
   ]
  },
  {
   "cell_type": "code",
   "execution_count": 28,
   "metadata": {},
   "outputs": [
    {
     "name": "stdout",
     "output_type": "stream",
     "text": [
      "D1 : {1: 2, 'a': 'b', 3: 'c'}\n"
     ]
    }
   ],
   "source": [
    "D1 = {i:j for i, j in [(1, 2), ('a', 'b'), (3, 'c')]}\n",
    "print('D1 :', D1)\n"
   ]
  },
  {
   "cell_type": "code",
   "execution_count": 29,
   "metadata": {},
   "outputs": [
    {
     "name": "stdout",
     "output_type": "stream",
     "text": [
      "D0 : {(1,): [1, 2, 2], ('a',): [1, 2, 'b'], (3,): [1, 2, 'c']}\n"
     ]
    }
   ],
   "source": [
    "D0 = {(i,):[1,2,j] for i, j in [(1, 2), ('a', 'b'), (3, 'c')]}\n",
    "print('D0 :', D0)"
   ]
  },
  {
   "cell_type": "markdown",
   "metadata": {},
   "source": [
    "##### No two same keys allowed"
   ]
  },
  {
   "cell_type": "code",
   "execution_count": 30,
   "metadata": {},
   "outputs": [
    {
     "name": "stdout",
     "output_type": "stream",
     "text": [
      "D2 : {'a': 'b', 3: 'c', 'aa': ()}\n"
     ]
    }
   ],
   "source": [
    "D2 = {i:j for i, j in ('ab', ['a', 'b'], {3, 'c'}, {(), 'aa', ()})}\n",
    "print('D2 :', D2) # the set sets its own order ...\n"
   ]
  },
  {
   "cell_type": "markdown",
   "metadata": {},
   "source": [
    "### Additional examples\n",
    "#### More `list comprehensions` examples"
   ]
  },
  {
   "cell_type": "code",
   "execution_count": null,
   "metadata": {},
   "outputs": [],
   "source": [
    "L1 = [x for x in 'iosi' + \"apple\" * 2]\n",
    "print('L1:', L1) # [0, 1, 2]\n"
   ]
  },
  {
   "cell_type": "code",
   "execution_count": null,
   "metadata": {},
   "outputs": [],
   "source": [
    "L2 = [x for x in range(3) if x % 2 == 0]\n",
    "print('L2:', L2) # [0, 2]\n"
   ]
  },
  {
   "cell_type": "code",
   "execution_count": null,
   "metadata": {},
   "outputs": [],
   "source": [
    "L3 = [x ** y for x in range(3) for y in range(2) if x != y]\n",
    "print('L3:', L3) # [0, 1, 1, 2]"
   ]
  },
  {
   "cell_type": "code",
   "execution_count": null,
   "metadata": {},
   "outputs": [],
   "source": [
    "L4 = [(x, y) for x in range(3) for y in range(2) if x != y ]\n",
    "print('L4:', L4) # [(0, 1), (1, 0), (2, 0), (2, 1)]\n"
   ]
  },
  {
   "cell_type": "code",
   "execution_count": null,
   "metadata": {},
   "outputs": [],
   "source": [
    "L5 = [(x + y, y - 1) for x in range(3) for y in range(2) if x != y]\n",
    "print('L5:', L5)# [(1, 0), (1, -1), (2, -1), (3, 0)]\n"
   ]
  }
 ],
 "metadata": {
  "kernelspec": {
   "display_name": "Python 3",
   "language": "python",
   "name": "python3"
  },
  "language_info": {
   "codemirror_mode": {
    "name": "ipython",
    "version": 3
   },
   "file_extension": ".py",
   "mimetype": "text/x-python",
   "name": "python",
   "nbconvert_exporter": "python",
   "pygments_lexer": "ipython3",
   "version": "3.7.4"
  }
 },
 "nbformat": 4,
 "nbformat_minor": 2
}
